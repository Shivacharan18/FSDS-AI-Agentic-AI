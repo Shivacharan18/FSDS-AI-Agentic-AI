{
 "cells": [
  {
   "cell_type": "markdown",
   "id": "f29f0c55-1bf5-48b7-bc9f-fa62cc9355c5",
   "metadata": {},
   "source": [
    "Tuple:- Tuple in python is ordered , immutable sequence of elements.Tuples are defined by () and elements are seperated by comma(,)s.unlike list tuples are cannot be modified after creation.These immutability is suitable for representing fixed collection of data."
   ]
  },
  {
   "cell_type": "code",
   "execution_count": 4,
   "id": "9956827e-7df9-4aee-bd4d-50bf1d2bc079",
   "metadata": {},
   "outputs": [],
   "source": [
    "#Creating a tuple\n",
    "t= ()"
   ]
  },
  {
   "cell_type": "code",
   "execution_count": 26,
   "id": "e3e4654a-4f03-4999-8209-ce858703ca84",
   "metadata": {},
   "outputs": [],
   "source": [
    "tup = (1, 2 ,3 , 4, 5 , 6) # Tuple of integers numbers"
   ]
  },
  {
   "cell_type": "code",
   "execution_count": 28,
   "id": "bd1369e1-ffaa-46e6-a86a-ed626539d312",
   "metadata": {},
   "outputs": [
    {
     "data": {
      "text/plain": [
       "(1, 2, 3, 4, 5, 6)"
      ]
     },
     "execution_count": 28,
     "metadata": {},
     "output_type": "execute_result"
    }
   ],
   "source": [
    "tup"
   ]
  },
  {
   "cell_type": "code",
   "execution_count": 32,
   "id": "6748909a-f66d-4dc5-84f5-1f389329a408",
   "metadata": {},
   "outputs": [],
   "source": [
    "tupl = (1.2,2.4,3.4,4.5,5.6)  # Tuple of float nunmers"
   ]
  },
  {
   "cell_type": "code",
   "execution_count": 34,
   "id": "484abb8c-981a-49e4-88a6-dcf1437aa889",
   "metadata": {},
   "outputs": [
    {
     "data": {
      "text/plain": [
       "(1.2, 2.4, 3.4, 4.5, 5.6)"
      ]
     },
     "execution_count": 34,
     "metadata": {},
     "output_type": "execute_result"
    }
   ],
   "source": [
    "tupl"
   ]
  },
  {
   "cell_type": "code",
   "execution_count": 44,
   "id": "c216f5c1-ea32-45f5-8e1c-54ccdca6e22a",
   "metadata": {},
   "outputs": [],
   "source": [
    "Tuple = (\"  \",'immuatable','nit','hyd')"
   ]
  },
  {
   "cell_type": "code",
   "execution_count": 46,
   "id": "5aca2303-a69a-450a-82e0-b9d36a8acf10",
   "metadata": {},
   "outputs": [
    {
     "data": {
      "text/plain": [
       "('  ', 'immuatable', 'nit', 'hyd')"
      ]
     },
     "execution_count": 46,
     "metadata": {},
     "output_type": "execute_result"
    }
   ],
   "source": [
    "Tuple"
   ]
  },
  {
   "cell_type": "code",
   "execution_count": 52,
   "id": "04d68ec7-79d2-4c42-9164-afcd8b99d459",
   "metadata": {},
   "outputs": [],
   "source": [
    "t3 = ('pk', 3, 4.5,(18,333,17,\"Hitman\"),(True,2,3.4)) #nested tuple and differnt datatypes"
   ]
  },
  {
   "cell_type": "code",
   "execution_count": 54,
   "id": "cd7a7efc-8d82-4c43-9a98-08c545d2d08c",
   "metadata": {
    "jp-MarkdownHeadingCollapsed": true
   },
   "outputs": [
    {
     "data": {
      "text/plain": [
       "('pk', 3, 4.5, (18, 333, 17, 'Hitman'), (True, 2, 3.4))"
      ]
     },
     "execution_count": 54,
     "metadata": {},
     "output_type": "execute_result"
    }
   ],
   "source": [
    "t3"
   ]
  },
  {
   "cell_type": "code",
   "execution_count": 56,
   "id": "b38e594f-768c-4e23-805a-88d6148a8ebc",
   "metadata": {},
   "outputs": [
    {
     "data": {
      "text/plain": [
       "5"
      ]
     },
     "execution_count": 56,
     "metadata": {},
     "output_type": "execute_result"
    }
   ],
   "source": [
    "len(t3)"
   ]
  },
  {
   "cell_type": "code",
   "execution_count": 58,
   "id": "c6844f88-88f0-4950-a76c-60ba0f8a27f6",
   "metadata": {},
   "outputs": [
    {
     "data": {
      "text/plain": [
       "3"
      ]
     },
     "execution_count": 58,
     "metadata": {},
     "output_type": "execute_result"
    }
   ],
   "source": [
    "tup[2] # Tuple indexing"
   ]
  },
  {
   "cell_type": "code",
   "execution_count": 62,
   "id": "98e0af06-0de8-4932-8138-024c765653d0",
   "metadata": {},
   "outputs": [
    {
     "data": {
      "text/plain": [
       "5"
      ]
     },
     "execution_count": 62,
     "metadata": {},
     "output_type": "execute_result"
    }
   ],
   "source": [
    "tup[4]"
   ]
  },
  {
   "cell_type": "code",
   "execution_count": 68,
   "id": "b60be29d-06c0-48e7-a93c-f46bb7ee1b41",
   "metadata": {},
   "outputs": [
    {
     "data": {
      "text/plain": [
       "'k'"
      ]
     },
     "execution_count": 68,
     "metadata": {},
     "output_type": "execute_result"
    }
   ],
   "source": [
    "t3[0][1] # nested indexing"
   ]
  },
  {
   "cell_type": "code",
   "execution_count": 78,
   "id": "bfc59d7b-8011-478b-865d-5d6bcb9c752d",
   "metadata": {},
   "outputs": [],
   "source": [
    "t3= ('pk', 3, 4.5,(18,333,17,\"Hitman\"),(True,2,3.4))"
   ]
  },
  {
   "cell_type": "code",
   "execution_count": 80,
   "id": "f8062ec3-f747-4ed4-ac88-875875c4a270",
   "metadata": {},
   "outputs": [
    {
     "data": {
      "text/plain": [
       "('pk', 3, 4.5, (18, 333, 17, 'Hitman'), (True, 2, 3.4))"
      ]
     },
     "execution_count": 80,
     "metadata": {},
     "output_type": "execute_result"
    }
   ],
   "source": [
    "t3"
   ]
  },
  {
   "cell_type": "code",
   "execution_count": 84,
   "id": "825af75e-76f4-40e5-bb84-78ace7991d4e",
   "metadata": {},
   "outputs": [
    {
     "data": {
      "text/plain": [
       "(18, 333, 17, 'Hitman')"
      ]
     },
     "execution_count": 84,
     "metadata": {},
     "output_type": "execute_result"
    }
   ],
   "source": [
    "t3[-2]"
   ]
  },
  {
   "cell_type": "markdown",
   "id": "f8202a68-4e89-41cf-b8d2-a009740dd924",
   "metadata": {},
   "source": [
    "Tuple Slicing:-"
   ]
  },
  {
   "cell_type": "code",
   "execution_count": 87,
   "id": "2039d1ba-f6f5-4238-84db-2867c01da33d",
   "metadata": {},
   "outputs": [],
   "source": [
    "mytuple = (3, 4.5,18, 333, 17, 'Hitman',\"King\",300,)"
   ]
  },
  {
   "cell_type": "code",
   "execution_count": 89,
   "id": "81d304aa-b132-491e-86e5-261dd6d6535c",
   "metadata": {},
   "outputs": [
    {
     "data": {
      "text/plain": [
       "(3, 4.5, 18, 333, 17, 'Hitman', 'King', 300)"
      ]
     },
     "execution_count": 89,
     "metadata": {},
     "output_type": "execute_result"
    }
   ],
   "source": [
    "mytuple"
   ]
  },
  {
   "cell_type": "code",
   "execution_count": 99,
   "id": "8f770c90-55f4-4491-80ef-cc4dfee7fe63",
   "metadata": {},
   "outputs": [
    {
     "data": {
      "text/plain": [
       "(3, 4.5, 18, 333)"
      ]
     },
     "execution_count": 99,
     "metadata": {},
     "output_type": "execute_result"
    }
   ],
   "source": [
    "mytuple[0:4]"
   ]
  },
  {
   "cell_type": "code",
   "execution_count": 93,
   "id": "567c21aa-6380-4f70-9f9d-522a78a1f6a3",
   "metadata": {},
   "outputs": [
    {
     "data": {
      "text/plain": [
       "(3, 4.5, 18, 333, 17, 'Hitman', 'King', 300)"
      ]
     },
     "execution_count": 93,
     "metadata": {},
     "output_type": "execute_result"
    }
   ],
   "source": [
    "mytuple[:]"
   ]
  },
  {
   "cell_type": "code",
   "execution_count": 101,
   "id": "3223964f-78e1-4c93-a974-8c484cbd63c9",
   "metadata": {},
   "outputs": [
    {
     "data": {
      "text/plain": [
       "(333, 17, 'Hitman', 'King', 300)"
      ]
     },
     "execution_count": 101,
     "metadata": {},
     "output_type": "execute_result"
    }
   ],
   "source": [
    "mytuple[-5:] #Returns last five"
   ]
  },
  {
   "cell_type": "markdown",
   "id": "707cd5eb-e91b-406b-b624-0b66d8c1ea99",
   "metadata": {},
   "source": [
    "loop through a tuple:-"
   ]
  },
  {
   "cell_type": "code",
   "execution_count": 105,
   "id": "1688abf6-5608-4c22-86d6-881b971cf28c",
   "metadata": {},
   "outputs": [
    {
     "name": "stdout",
     "output_type": "stream",
     "text": [
      "3\n",
      "4.5\n",
      "18\n",
      "333\n",
      "17\n",
      "Hitman\n",
      "King\n",
      "300\n"
     ]
    }
   ],
   "source": [
    "for i in mytuple:\n",
    "    print(i)"
   ]
  },
  {
   "cell_type": "code",
   "execution_count": 107,
   "id": "fdbcd205-47d9-42f3-b42e-de7ac88520e0",
   "metadata": {},
   "outputs": [
    {
     "name": "stdout",
     "output_type": "stream",
     "text": [
      "(0, 3)\n",
      "(1, 4.5)\n",
      "(2, 18)\n",
      "(3, 333)\n",
      "(4, 17)\n",
      "(5, 'Hitman')\n",
      "(6, 'King')\n",
      "(7, 300)\n"
     ]
    }
   ],
   "source": [
    "for i in enumerate(mytuple):\n",
    "    print(i)"
   ]
  },
  {
   "cell_type": "markdown",
   "id": "c6c3cd29-8a55-40d1-ac0f-34be52150cd9",
   "metadata": {},
   "source": [
    "tuple membership:- "
   ]
  },
  {
   "cell_type": "code",
   "execution_count": 118,
   "id": "5ef2e42a-0e59-40c1-a8a0-c6ab92d54ece",
   "metadata": {},
   "outputs": [],
   "source": [
    "tuplemem = (1,'one',2,'two',3,'three',4,'four')"
   ]
  },
  {
   "cell_type": "code",
   "execution_count": 120,
   "id": "60921652-553f-45b8-a400-4f9c349768c8",
   "metadata": {},
   "outputs": [
    {
     "data": {
      "text/plain": [
       "(1, 'one', 2, 'two', 3, 'three', 4, 'four')"
      ]
     },
     "execution_count": 120,
     "metadata": {},
     "output_type": "execute_result"
    }
   ],
   "source": [
    "tuplemem"
   ]
  },
  {
   "cell_type": "code",
   "execution_count": 122,
   "id": "a957a486-df66-48fe-bbf1-b8005c6d4e25",
   "metadata": {},
   "outputs": [
    {
     "data": {
      "text/plain": [
       "True"
      ]
     },
     "execution_count": 122,
     "metadata": {},
     "output_type": "execute_result"
    }
   ],
   "source": [
    "'one' in tuplemem"
   ]
  },
  {
   "cell_type": "code",
   "execution_count": 124,
   "id": "1a26a358-7033-4ce6-b742-c5281fe9fb8b",
   "metadata": {},
   "outputs": [
    {
     "data": {
      "text/plain": [
       "True"
      ]
     },
     "execution_count": 124,
     "metadata": {},
     "output_type": "execute_result"
    }
   ],
   "source": [
    "1 in tuplemem"
   ]
  },
  {
   "cell_type": "code",
   "execution_count": 126,
   "id": "f24f737b-e05f-413a-ae50-783fc618e72b",
   "metadata": {},
   "outputs": [
    {
     "data": {
      "text/plain": [
       "False"
      ]
     },
     "execution_count": 126,
     "metadata": {},
     "output_type": "execute_result"
    }
   ],
   "source": [
    "'ten' in tuplemem"
   ]
  },
  {
   "cell_type": "code",
   "execution_count": 6,
   "id": "3def9f0b-7d9f-4ba5-bc63-8f2bc142ae9e",
   "metadata": {},
   "outputs": [
    {
     "data": {
      "text/plain": [
       "0"
      ]
     },
     "execution_count": 6,
     "metadata": {},
     "output_type": "execute_result"
    }
   ],
   "source": [
    "len(t)"
   ]
  },
  {
   "cell_type": "code",
   "execution_count": 8,
   "id": "247663eb-e444-4c60-8b22-43e82e76ccdd",
   "metadata": {},
   "outputs": [
    {
     "data": {
      "text/plain": [
       "(10, 20, 30, 40, 40, 50)"
      ]
     },
     "execution_count": 8,
     "metadata": {},
     "output_type": "execute_result"
    }
   ],
   "source": [
    "t1 = (10, 20, 30,40, 40, 50)\n",
    "t1"
   ]
  },
  {
   "cell_type": "code",
   "execution_count": 12,
   "id": "b972297c-6ede-4faf-aa47-e114c83ed743",
   "metadata": {},
   "outputs": [
    {
     "data": {
      "text/plain": [
       "1"
      ]
     },
     "execution_count": 12,
     "metadata": {},
     "output_type": "execute_result"
    }
   ],
   "source": [
    "t1.count(20) # Count is used to findout how times an element presemt in the Tuple "
   ]
  },
  {
   "cell_type": "code",
   "execution_count": 14,
   "id": "497be2d9-cb2c-460b-98a1-f026bd08134c",
   "metadata": {},
   "outputs": [
    {
     "data": {
      "text/plain": [
       "2"
      ]
     },
     "execution_count": 14,
     "metadata": {},
     "output_type": "execute_result"
    }
   ],
   "source": [
    "t1.count(40)"
   ]
  },
  {
   "cell_type": "code",
   "execution_count": 18,
   "id": "971f6f6f-8808-4192-8d80-bc839304405f",
   "metadata": {},
   "outputs": [
    {
     "data": {
      "text/plain": [
       "3"
      ]
     },
     "execution_count": 18,
     "metadata": {},
     "output_type": "execute_result"
    }
   ],
   "source": [
    "t1.index(40) #Index in tuple gives index value of an element  "
   ]
  },
  {
   "cell_type": "code",
   "execution_count": 20,
   "id": "39b998f1-de66-41cf-a6c6-1751a79332ce",
   "metadata": {},
   "outputs": [
    {
     "data": {
      "text/plain": [
       "1"
      ]
     },
     "execution_count": 20,
     "metadata": {},
     "output_type": "execute_result"
    }
   ],
   "source": [
    "t1.index(20)"
   ]
  },
  {
   "cell_type": "code",
   "execution_count": 22,
   "id": "69ba8115-4677-4203-acbf-234ca7f83177",
   "metadata": {},
   "outputs": [],
   "source": [
    "t2 = t1 * 3"
   ]
  },
  {
   "cell_type": "code",
   "execution_count": 24,
   "id": "78a29236-d83a-451d-babd-a429d7bc1cec",
   "metadata": {},
   "outputs": [
    {
     "data": {
      "text/plain": [
       "(10, 20, 30, 40, 40, 50, 10, 20, 30, 40, 40, 50, 10, 20, 30, 40, 40, 50)"
      ]
     },
     "execution_count": 24,
     "metadata": {},
     "output_type": "execute_result"
    }
   ],
   "source": [
    "t2"
   ]
  },
  {
   "cell_type": "markdown",
   "id": "81db1f2f-5d0a-4320-ac86-4789e20af774",
   "metadata": {},
   "source": [
    "Sorting:-"
   ]
  },
  {
   "cell_type": "code",
   "execution_count": 3,
   "id": "18fe5482-9e7a-45d1-a97f-c55859ea49a7",
   "metadata": {},
   "outputs": [],
   "source": [
    "tup1 = (1,2,3,4,5,6,7,8,9,10,11,12,13,14,15,16)"
   ]
  },
  {
   "cell_type": "code",
   "execution_count": 5,
   "id": "b1de9e39-22b9-4bed-9bae-7cc045d05d0e",
   "metadata": {},
   "outputs": [
    {
     "data": {
      "text/plain": [
       "(1, 2, 3, 4, 5, 6, 7, 8, 9, 10, 11, 12, 13, 14, 15, 16)"
      ]
     },
     "execution_count": 5,
     "metadata": {},
     "output_type": "execute_result"
    }
   ],
   "source": [
    "tup1"
   ]
  },
  {
   "cell_type": "code",
   "execution_count": 7,
   "id": "1be82c52-6cee-43b0-b1a7-9578c9d222a3",
   "metadata": {},
   "outputs": [
    {
     "data": {
      "text/plain": [
       "[1, 2, 3, 4, 5, 6, 7, 8, 9, 10, 11, 12, 13, 14, 15, 16]"
      ]
     },
     "execution_count": 7,
     "metadata": {},
     "output_type": "execute_result"
    }
   ],
   "source": [
    "sorted(tup1)"
   ]
  },
  {
   "cell_type": "code",
   "execution_count": 9,
   "id": "ecb84b6e-7ed9-421f-8600-2332931e8501",
   "metadata": {},
   "outputs": [
    {
     "data": {
      "text/plain": [
       "[16, 15, 14, 13, 12, 11, 10, 9, 8, 7, 6, 5, 4, 3, 2, 1]"
      ]
     },
     "execution_count": 9,
     "metadata": {},
     "output_type": "execute_result"
    }
   ],
   "source": [
    "sorted(tup1,reverse=True)"
   ]
  },
  {
   "cell_type": "code",
   "execution_count": 11,
   "id": "f2db8de9-af5a-4660-a1db-8bba3130ec97",
   "metadata": {},
   "outputs": [
    {
     "data": {
      "text/plain": [
       "[1, 2, 3, 4, 5, 6, 7, 8, 9, 10, 11, 12, 13, 14, 15, 16]"
      ]
     },
     "execution_count": 11,
     "metadata": {},
     "output_type": "execute_result"
    }
   ],
   "source": [
    "sorted(tup1,reverse=False)"
   ]
  },
  {
   "cell_type": "code",
   "execution_count": null,
   "id": "22d353a5-f0f5-43ea-a390-ad61e76e365d",
   "metadata": {},
   "outputs": [],
   "source": []
  }
 ],
 "metadata": {
  "kernelspec": {
   "display_name": "Python [conda env:base] *",
   "language": "python",
   "name": "conda-base-py"
  },
  "language_info": {
   "codemirror_mode": {
    "name": "ipython",
    "version": 3
   },
   "file_extension": ".py",
   "mimetype": "text/x-python",
   "name": "python",
   "nbconvert_exporter": "python",
   "pygments_lexer": "ipython3",
   "version": "3.12.7"
  }
 },
 "nbformat": 4,
 "nbformat_minor": 5
}
