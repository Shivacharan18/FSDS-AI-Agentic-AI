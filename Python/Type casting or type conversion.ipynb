{
 "cells": [
  {
   "cell_type": "markdown",
   "id": "119ebc91-ba8c-47ce-9051-6b04032e65db",
   "metadata": {},
   "source": [
    "Type casting or type conversion \n",
    "--int   --float  --boolean  --string  --complex"
   ]
  },
  {
   "cell_type": "markdown",
   "id": "1667f1fd-95b4-4436-a04d-5162b02fe1e7",
   "metadata": {},
   "source": [
    "int():-you can convert other datatype to int datatype except complex and string with text"
   ]
  },
  {
   "cell_type": "code",
   "execution_count": 1,
   "id": "9377a925-bd3a-4f15-8fa6-4c5cdbb6f20e",
   "metadata": {},
   "outputs": [
    {
     "data": {
      "text/plain": [
       "10"
      ]
     },
     "execution_count": 1,
     "metadata": {},
     "output_type": "execute_result"
    }
   ],
   "source": [
    "# float to integer\n",
    "int(10.09759)"
   ]
  },
  {
   "cell_type": "code",
   "execution_count": 3,
   "id": "fd24d088-0d9d-41d4-b385-9617ca74d3dc",
   "metadata": {},
   "outputs": [
    {
     "ename": "TypeError",
     "evalue": "int() argument must be a string, a bytes-like object or a real number, not 'complex'",
     "output_type": "error",
     "traceback": [
      "\u001b[1;31m---------------------------------------------------------------------------\u001b[0m",
      "\u001b[1;31mTypeError\u001b[0m                                 Traceback (most recent call last)",
      "Cell \u001b[1;32mIn[3], line 2\u001b[0m\n\u001b[0;32m      1\u001b[0m \u001b[38;5;66;03m#Complex to integer \u001b[39;00m\n\u001b[1;32m----> 2\u001b[0m \u001b[38;5;28mint\u001b[39m(\u001b[38;5;241m10\u001b[39m\u001b[38;5;241m+\u001b[39m\u001b[38;5;241m20\u001b[39mj)\n",
      "\u001b[1;31mTypeError\u001b[0m: int() argument must be a string, a bytes-like object or a real number, not 'complex'"
     ]
    }
   ],
   "source": [
    "#Complex to integer # you cannot convert complex to integer because complex contain imaginary part.\n",
    "int(10+20j)"
   ]
  },
  {
   "cell_type": "code",
   "execution_count": 7,
   "id": "72def409-ea4a-4b36-9add-21c483e99d3d",
   "metadata": {},
   "outputs": [
    {
     "data": {
      "text/plain": [
       "0"
      ]
     },
     "execution_count": 7,
     "metadata": {},
     "output_type": "execute_result"
    }
   ],
   "source": [
    "#bool to int \n",
    "int(True) # 1\n",
    "\n",
    "int(False) # 0"
   ]
  },
  {
   "cell_type": "code",
   "execution_count": 9,
   "id": "b2cf4c95-0f21-4ef0-a6b2-495f89acca57",
   "metadata": {},
   "outputs": [
    {
     "data": {
      "text/plain": [
       "10"
      ]
     },
     "execution_count": 9,
     "metadata": {},
     "output_type": "execute_result"
    }
   ],
   "source": [
    "# string to integer \n",
    "int('10')"
   ]
  },
  {
   "cell_type": "code",
   "execution_count": 11,
   "id": "859effcf-a17c-4f54-8924-b288f5413358",
   "metadata": {},
   "outputs": [
    {
     "ename": "ValueError",
     "evalue": "invalid literal for int() with base 10: 'ten'",
     "output_type": "error",
     "traceback": [
      "\u001b[1;31m---------------------------------------------------------------------------\u001b[0m",
      "\u001b[1;31mValueError\u001b[0m                                Traceback (most recent call last)",
      "Cell \u001b[1;32mIn[11], line 1\u001b[0m\n\u001b[1;32m----> 1\u001b[0m \u001b[38;5;28mint\u001b[39m(\u001b[38;5;124m'\u001b[39m\u001b[38;5;124mten\u001b[39m\u001b[38;5;124m'\u001b[39m)\n",
      "\u001b[1;31mValueError\u001b[0m: invalid literal for int() with base 10: 'ten'"
     ]
    }
   ],
   "source": [
    "int('ten')"
   ]
  },
  {
   "cell_type": "markdown",
   "id": "d37ba5e4-ad4c-46dd-bb72-9e8b5b6104f0",
   "metadata": {},
   "source": [
    "float():- convert from any type to float except complex and string with text\n"
   ]
  },
  {
   "cell_type": "code",
   "execution_count": 13,
   "id": "c8a16df7-0f99-410f-a325-3bac2afe0036",
   "metadata": {},
   "outputs": [
    {
     "data": {
      "text/plain": [
       "10.0"
      ]
     },
     "execution_count": 13,
     "metadata": {},
     "output_type": "execute_result"
    }
   ],
   "source": [
    " # int to float\n",
    "float(10)"
   ]
  },
  {
   "cell_type": "code",
   "execution_count": 17,
   "id": "6a731c01-941a-4f6a-aa44-7f9224c27d84",
   "metadata": {},
   "outputs": [
    {
     "data": {
      "text/plain": [
       "1.0"
      ]
     },
     "execution_count": 17,
     "metadata": {},
     "output_type": "execute_result"
    }
   ],
   "source": [
    "# boolean to float\n",
    "float(True)"
   ]
  },
  {
   "cell_type": "code",
   "execution_count": 25,
   "id": "9c7017cf-fea8-4d13-940d-6cb26572dbc1",
   "metadata": {},
   "outputs": [
    {
     "data": {
      "text/plain": [
       "14.0"
      ]
     },
     "execution_count": 25,
     "metadata": {},
     "output_type": "execute_result"
    }
   ],
   "source": [
    "#string to float\n",
    "float('14')"
   ]
  },
  {
   "cell_type": "markdown",
   "id": "44cf08e6-0606-4446-a93f-f895296359d9",
   "metadata": {},
   "source": [
    "complex(): -- covert any other type to complex type\n",
    " --- this only for 1 argument ------"
   ]
  },
  {
   "cell_type": "code",
   "execution_count": 29,
   "id": "f0e893df-01b4-4a08-9fcd-be2f6dc8a092",
   "metadata": {},
   "outputs": [
    {
     "data": {
      "text/plain": [
       "(10+0j)"
      ]
     },
     "execution_count": 29,
     "metadata": {},
     "output_type": "execute_result"
    }
   ],
   "source": [
    "#int to complex\n",
    "complex(10)"
   ]
  },
  {
   "cell_type": "code",
   "execution_count": 31,
   "id": "c83d0deb-b0a1-466c-956d-6f20e3f2413d",
   "metadata": {},
   "outputs": [
    {
     "data": {
      "text/plain": [
       "(10.5+0j)"
      ]
     },
     "execution_count": 31,
     "metadata": {},
     "output_type": "execute_result"
    }
   ],
   "source": [
    "#float to complex\n",
    "complex(10.5)"
   ]
  },
  {
   "cell_type": "code",
   "execution_count": 33,
   "id": "aa63d6c8-c95e-4783-b473-64e50caa97dd",
   "metadata": {},
   "outputs": [
    {
     "data": {
      "text/plain": [
       "(1+0j)"
      ]
     },
     "execution_count": 33,
     "metadata": {},
     "output_type": "execute_result"
    }
   ],
   "source": [
    "#bool to complex\n",
    "complex(True)"
   ]
  },
  {
   "cell_type": "code",
   "execution_count": 35,
   "id": "22b8282a-f89a-4381-b27d-b87cf12a1e0a",
   "metadata": {},
   "outputs": [
    {
     "data": {
      "text/plain": [
       "0j"
      ]
     },
     "execution_count": 35,
     "metadata": {},
     "output_type": "execute_result"
    }
   ],
   "source": [
    "complex(False)"
   ]
  },
  {
   "cell_type": "code",
   "execution_count": 37,
   "id": "6f5ae22b-0a33-438d-8415-f895e8ae5c96",
   "metadata": {},
   "outputs": [
    {
     "data": {
      "text/plain": [
       "(34+0j)"
      ]
     },
     "execution_count": 37,
     "metadata": {},
     "output_type": "execute_result"
    }
   ],
   "source": [
    "# string to complex \n",
    "complex('34')"
   ]
  },
  {
   "cell_type": "markdown",
   "id": "a16f96b2-2be8-49a6-85f7-e1f71f0b8301",
   "metadata": {},
   "source": [
    "------------ Now lets check for two arguments -----------\n"
   ]
  },
  {
   "cell_type": "code",
   "execution_count": 45,
   "id": "81f10285-b77b-4cc0-a0ae-2a7b02fc1ecd",
   "metadata": {},
   "outputs": [
    {
     "data": {
      "text/plain": [
       "(10+20j)"
      ]
     },
     "execution_count": 45,
     "metadata": {},
     "output_type": "execute_result"
    }
   ],
   "source": [
    "#int to complex\n",
    "complex(10,20)"
   ]
  },
  {
   "cell_type": "code",
   "execution_count": 52,
   "id": "0b5daac0-d85c-4585-8c6c-45ec13326119",
   "metadata": {},
   "outputs": [
    {
     "data": {
      "text/plain": [
       "(20.4+20.9j)"
      ]
     },
     "execution_count": 52,
     "metadata": {},
     "output_type": "execute_result"
    }
   ],
   "source": [
    "#float to complex\n",
    "complex(20.4, 20.9)"
   ]
  },
  {
   "cell_type": "markdown",
   "id": "fb03a1bb-1370-4868-a4a1-0159a6f53047",
   "metadata": {},
   "source": [
    " Bool()  - (0 means false // 1 means non zero)\n",
    "\n"
   ]
  },
  {
   "cell_type": "code",
   "execution_count": 57,
   "id": "311e3fc0-b88e-4b53-936e-1b67a9b60fd0",
   "metadata": {},
   "outputs": [
    {
     "data": {
      "text/plain": [
       "False"
      ]
     },
     "execution_count": 57,
     "metadata": {},
     "output_type": "execute_result"
    }
   ],
   "source": [
    "#int to bool\n",
    "bool(0)"
   ]
  },
  {
   "cell_type": "code",
   "execution_count": 59,
   "id": "9e0dc13e-0b0c-452b-8d13-0f549b2ae349",
   "metadata": {},
   "outputs": [
    {
     "data": {
      "text/plain": [
       "True"
      ]
     },
     "execution_count": 59,
     "metadata": {},
     "output_type": "execute_result"
    }
   ],
   "source": [
    "bool(-10) "
   ]
  },
  {
   "cell_type": "code",
   "execution_count": 63,
   "id": "9248224d-bb8c-4f4d-a1f7-99c5a97fffd4",
   "metadata": {},
   "outputs": [
    {
     "data": {
      "text/plain": [
       "True"
      ]
     },
     "execution_count": 63,
     "metadata": {},
     "output_type": "execute_result"
    }
   ],
   "source": [
    "#float to bool\n",
    "bool(0.01)"
   ]
  },
  {
   "cell_type": "code",
   "execution_count": 65,
   "id": "8888ef44-715c-46fa-984e-189d5a56c32d",
   "metadata": {},
   "outputs": [
    {
     "data": {
      "text/plain": [
       "True"
      ]
     },
     "execution_count": 65,
     "metadata": {},
     "output_type": "execute_result"
    }
   ],
   "source": [
    "#complex to bool\n",
    "bool(10+20j)"
   ]
  },
  {
   "cell_type": "code",
   "execution_count": 69,
   "id": "845aa329-6fbb-4bf1-b05c-a9cf14fdff3f",
   "metadata": {},
   "outputs": [
    {
     "data": {
      "text/plain": [
       "True"
      ]
     },
     "execution_count": 69,
     "metadata": {},
     "output_type": "execute_result"
    }
   ],
   "source": [
    "bool(0+10j)"
   ]
  },
  {
   "cell_type": "code",
   "execution_count": 71,
   "id": "17b8b561-d837-4f53-b015-16dc0cf5e365",
   "metadata": {},
   "outputs": [
    {
     "data": {
      "text/plain": [
       "False"
      ]
     },
     "execution_count": 71,
     "metadata": {},
     "output_type": "execute_result"
    }
   ],
   "source": [
    " # string to bool(if argument is empty string then false)\n",
    "bool('')"
   ]
  },
  {
   "cell_type": "code",
   "execution_count": 73,
   "id": "e24a748e-0165-4825-b849-f095ed30a118",
   "metadata": {},
   "outputs": [
    {
     "data": {
      "text/plain": [
       "True"
      ]
     },
     "execution_count": 73,
     "metadata": {},
     "output_type": "execute_result"
    }
   ],
   "source": [
    "bool('rger')# string to bool(if argument is not empty string then true)"
   ]
  },
  {
   "cell_type": "markdown",
   "id": "00fc0112-827f-47cf-9d3b-5288f8163b25",
   "metadata": {},
   "source": [
    "str(): --- any type is possible in string "
   ]
  },
  {
   "cell_type": "code",
   "execution_count": 76,
   "id": "cbced5b0-7ae4-4f21-a680-eadbdc267182",
   "metadata": {},
   "outputs": [
    {
     "data": {
      "text/plain": [
       "'10'"
      ]
     },
     "execution_count": 76,
     "metadata": {},
     "output_type": "execute_result"
    }
   ],
   "source": [
    "# int to string\n",
    "str(10)"
   ]
  },
  {
   "cell_type": "code",
   "execution_count": 78,
   "id": "6aa7e7cb-ab44-4bd2-93c5-a43a9b218297",
   "metadata": {},
   "outputs": [
    {
     "data": {
      "text/plain": [
       "'20.4325'"
      ]
     },
     "execution_count": 78,
     "metadata": {},
     "output_type": "execute_result"
    }
   ],
   "source": [
    "#float to string\n",
    "str(20.4325)"
   ]
  },
  {
   "cell_type": "code",
   "execution_count": null,
   "id": "9d8ce93c-9c4e-4d04-8398-cc2ef657bd02",
   "metadata": {},
   "outputs": [],
   "source": [
    "# bool to string\n"
   ]
  },
  {
   "cell_type": "code",
   "execution_count": null,
   "id": "24f039c3-fd83-4054-a156-942ece6f1f95",
   "metadata": {},
   "outputs": [],
   "source": []
  },
  {
   "cell_type": "code",
   "execution_count": null,
   "id": "1e4a82be-54d2-461b-9378-a57034f6fe05",
   "metadata": {},
   "outputs": [],
   "source": []
  }
 ],
 "metadata": {
  "kernelspec": {
   "display_name": "Python [conda env:base] *",
   "language": "python",
   "name": "conda-base-py"
  },
  "language_info": {
   "codemirror_mode": {
    "name": "ipython",
    "version": 3
   },
   "file_extension": ".py",
   "mimetype": "text/x-python",
   "name": "python",
   "nbconvert_exporter": "python",
   "pygments_lexer": "ipython3",
   "version": "3.12.7"
  }
 },
 "nbformat": 4,
 "nbformat_minor": 5
}
