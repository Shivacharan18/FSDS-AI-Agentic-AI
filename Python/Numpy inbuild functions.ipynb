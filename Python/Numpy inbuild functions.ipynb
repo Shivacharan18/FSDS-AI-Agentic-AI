{
 "cells": [
  {
   "cell_type": "markdown",
   "id": "b61f749b-69ed-443a-b0a4-aeb310a85786",
   "metadata": {},
   "source": [
    "COMPLETE NUMPY inbuild functions"
   ]
  },
  {
   "cell_type": "code",
   "execution_count": 1,
   "id": "6a2ac4cb-a928-4db0-baf5-2bb2621cc560",
   "metadata": {},
   "outputs": [],
   "source": [
    "import numpy as np"
   ]
  },
  {
   "cell_type": "markdown",
   "id": "0f31f98d-7d70-4d12-9760-748449133390",
   "metadata": {},
   "source": [
    "1.Array Creation Function"
   ]
  },
  {
   "cell_type": "code",
   "execution_count": 4,
   "id": "94806110-d45b-4e93-be1f-9114a7ed4371",
   "metadata": {},
   "outputs": [
    {
     "name": "stdout",
     "output_type": "stream",
     "text": [
      "Array a: [1 2 3]\n"
     ]
    }
   ],
   "source": [
    "# Create an arry from a list\n",
    "a = np.array([1,2,3])\n",
    "print(\"Array a:\",a)"
   ]
  },
  {
   "cell_type": "code",
   "execution_count": 5,
   "id": "50808cd7-32bd-44b7-b987-f2f610b49720",
   "metadata": {},
   "outputs": [
    {
     "name": "stdout",
     "output_type": "stream",
     "text": [
      "Array b: [ 0 10  2]\n"
     ]
    }
   ],
   "source": [
    "#creat an array with evenly spaced values\n",
    "b = np.array([0,10,2])#Value from o to 10 with 2 step gap\n",
    "print(\"Array b:\", b)"
   ]
  },
  {
   "cell_type": "code",
   "execution_count": 6,
   "id": "ba8df319-9b45-4f52-aa2e-d014a5826163",
   "metadata": {},
   "outputs": [
    {
     "name": "stdout",
     "output_type": "stream",
     "text": [
      "Array c: [0.   0.25 0.5  0.75 1.  ]\n"
     ]
    }
   ],
   "source": [
    "# Creat an array with linearly spaced values\n",
    "c = np.linspace(0,1,5)# 5 value devenly spaced b/w 0 to 1\n",
    "print('Array c:', c)"
   ]
  },
  {
   "cell_type": "code",
   "execution_count": 7,
   "id": "8eeaac3a-be63-4899-b85a-3feeee4d19b7",
   "metadata": {},
   "outputs": [
    {
     "name": "stdout",
     "output_type": "stream",
     "text": [
      "Array d: [[0. 0. 0.]\n",
      " [0. 0. 0.]]\n",
      "Array d:\n",
      " [[0. 0. 0.]\n",
      " [0. 0. 0.]]\n"
     ]
    }
   ],
   "source": [
    "# Creat an array filled with zeros\n",
    "d = np.zeros((2,3)) # 2x3 array of zeros\n",
    "print(\"Array d:\",d)\n",
    "print('Array d:\\n',d)"
   ]
  },
  {
   "cell_type": "code",
   "execution_count": 8,
   "id": "804e2ef3-87b9-4c9e-adbd-5867d38a6aff",
   "metadata": {},
   "outputs": [
    {
     "name": "stdout",
     "output_type": "stream",
     "text": [
      "Array e:\n",
      " [[1. 1. 1.]\n",
      " [1. 1. 1.]]\n"
     ]
    }
   ],
   "source": [
    "#create an array filled with ones\n",
    "e = np.ones((2,3)) # 2x3 array of ones\n",
    "print(\"Array e:\\n\" ,e)"
   ]
  },
  {
   "cell_type": "code",
   "execution_count": 9,
   "id": "0758860f-b8eb-4212-ad7f-e183313f64ba",
   "metadata": {},
   "outputs": [
    {
     "name": "stdout",
     "output_type": "stream",
     "text": [
      "Identity matrix f:\n",
      " [[1. 0. 0. 0.]\n",
      " [0. 1. 0. 0.]\n",
      " [0. 0. 1. 0.]\n",
      " [0. 0. 0. 1.]]\n"
     ]
    }
   ],
   "source": [
    "# Create an identity matrix \n",
    "f = np.eye(4) #4x4 identity matrix\n",
    "print(\"Identity matrix f:\\n\", f)#Return a 2-D array with ones on the diagonal and zeros elsewhere."
   ]
  },
  {
   "cell_type": "markdown",
   "id": "b5e7add5-c330-4bb5-b0c2-1b1c6631fa05",
   "metadata": {},
   "source": [
    "2.Array Manipulation Function"
   ]
  },
  {
   "cell_type": "code",
   "execution_count": 11,
   "id": "d879a40c-2f51-4a0f-8c8a-440f5c2c0125",
   "metadata": {},
   "outputs": [
    {
     "name": "stdout",
     "output_type": "stream",
     "text": [
      "Reshaped array:\n",
      " [[1]\n",
      " [2]\n",
      " [3]]\n"
     ]
    }
   ],
   "source": [
    "# Reshape an array\n",
    "a1 = np.array([1,2,3])\n",
    "reshaped = np.reshape(a1,(3,1)) #Reshape to 1x3\n",
    "print(\"Reshaped array:\\n\",reshaped)"
   ]
  },
  {
   "cell_type": "code",
   "execution_count": 12,
   "id": "df58b41b-15f9-4385-963e-07c605b43f88",
   "metadata": {},
   "outputs": [
    {
     "name": "stdout",
     "output_type": "stream",
     "text": [
      "Reshaped array: [[1 2 3]]\n"
     ]
    }
   ],
   "source": [
    "# Reshape an array\n",
    "a1 = np.array([1, 2, 3])\n",
    "reshaped = np.reshape(a1, (1, 3))  # Reshape to 1x3\n",
    "print(\"Reshaped array:\", reshaped)"
   ]
  },
  {
   "cell_type": "code",
   "execution_count": 13,
   "id": "09e4c114-e66d-49f3-886a-a93a15175d14",
   "metadata": {},
   "outputs": [
    {
     "name": "stdout",
     "output_type": "stream",
     "text": [
      "Flatterned array: [1 2 3 4]\n"
     ]
    }
   ],
   "source": [
    "#flattern an array\n",
    "f1 = np.array([[1,2],[3,4]])#Flattern to 1d array\n",
    "flattened = np.ravel(f1)\n",
    "print(\"Flatterned array:\",flattened)"
   ]
  },
  {
   "cell_type": "code",
   "execution_count": 14,
   "id": "efc031b8-687d-4d10-b078-da098618f064",
   "metadata": {},
   "outputs": [
    {
     "name": "stdout",
     "output_type": "stream",
     "text": [
      "Transposed array:\n",
      " [[1 3]\n",
      " [2 4]]\n"
     ]
    }
   ],
   "source": [
    "#Transpose an array\n",
    "e1 = np.array([[1,2],[3,4]])\n",
    "transposed = np.transpose(e1)# Trasnpose the array\n",
    "print(\"Transposed array:\\n\",transposed)"
   ]
  },
  {
   "cell_type": "code",
   "execution_count": 15,
   "id": "1857bac9-cd2d-471d-aa3c-c39b9c6166d4",
   "metadata": {},
   "outputs": [
    {
     "name": "stdout",
     "output_type": "stream",
     "text": [
      "Stacked arrays:\n",
      " [[1 2]\n",
      " [3 4]]\n"
     ]
    }
   ],
   "source": [
    "# Stack arrays vertically\n",
    "a2 = np.array([1,2])\n",
    "b2 = np.array([3,4])\n",
    "stacked = np.vstack([a2,b2])\n",
    "print(\"Stacked arrays:\\n\",stacked)"
   ]
  },
  {
   "cell_type": "markdown",
   "id": "1d8faa63-3810-44a3-8eae-5719642588ce",
   "metadata": {},
   "source": [
    "3.Mathematical Functions"
   ]
  },
  {
   "cell_type": "code",
   "execution_count": 21,
   "id": "4959625b-c53c-446d-8a3d-f3f747912d13",
   "metadata": {},
   "outputs": [
    {
     "name": "stdout",
     "output_type": "stream",
     "text": [
      "Added 2 to g: [3 4 5 6]\n"
     ]
    }
   ],
   "source": [
    "#add +2 to the each elements present an array\n",
    "g = np.array([1,2,3,4])\n",
    "added = np.add(g,2)#add 2 to each element\n",
    "print(\"Added 2 to g:\",added)"
   ]
  },
  {
   "cell_type": "code",
   "execution_count": 29,
   "id": "de0d1b2e-61f0-414f-81ec-2bc8996b3c12",
   "metadata": {},
   "outputs": [
    {
     "name": "stdout",
     "output_type": "stream",
     "text": [
      "Squared g: [ 1  4  9 16]\n"
     ]
    }
   ],
   "source": [
    "# square each element\n",
    "squared = np.power(g,2)\n",
    "print(\"Squared g:\", squared)"
   ]
  },
  {
   "cell_type": "code",
   "execution_count": 31,
   "id": "65ab8d0e-aaec-4c0c-bbd6-f2c24f9b84f1",
   "metadata": {},
   "outputs": [
    {
     "name": "stdout",
     "output_type": "stream",
     "text": [
      "Square root of g: [1.         1.41421356 1.73205081 2.        ]\n"
     ]
    }
   ],
   "source": [
    "#square root of each element\n",
    "sqrt_val = np.sqrt(g)\n",
    "print(\"Square root of g:\",sqrt_val)"
   ]
  },
  {
   "cell_type": "code",
   "execution_count": 39,
   "id": "c0abb7af-8612-4090-8c57-78257df7d0cd",
   "metadata": {},
   "outputs": [
    {
     "name": "stdout",
     "output_type": "stream",
     "text": [
      "[1 2 3]\n",
      "[1 2 3 4]\n"
     ]
    }
   ],
   "source": [
    "print(a1)\n",
    "print(g)"
   ]
  },
  {
   "cell_type": "code",
   "execution_count": 43,
   "id": "e22f6fbc-5f21-4ea6-9bc0-6ea9f73a9527",
   "metadata": {},
   "outputs": [
    {
     "name": "stdout",
     "output_type": "stream",
     "text": [
      "Dot product of a nad g: 30\n"
     ]
    }
   ],
   "source": [
    "# Dot product of two arrays\n",
    "a2 = np.array([1,2,3,4])\n",
    "dot_product = np.dot(a2,g) # dot product of a and g\n",
    "print(\"Dot product of a nad g:\", dot_product)"
   ]
  },
  {
   "cell_type": "code",
   "execution_count": 45,
   "id": "c6740a2e-2fbc-4bd2-98a5-8c1c8b602aa6",
   "metadata": {},
   "outputs": [
    {
     "name": "stdout",
     "output_type": "stream",
     "text": [
      "Dot product od a1 and a: 14\n"
     ]
    }
   ],
   "source": [
    "a3 = np.array([1,2,3])\n",
    "dot_product = np.dot(a1,a) # dot product of a and g \n",
    "print(\"Dot product od a1 and a:\", dot_product)"
   ]
  },
  {
   "cell_type": "markdown",
   "id": "7d458aeb-3b7b-403d-8845-ac5ef2f5be8a",
   "metadata": {},
   "source": [
    "4.Statistical Function"
   ]
  },
  {
   "cell_type": "code",
   "execution_count": 48,
   "id": "957bd21f-e4ff-4dbb-ad40-8d9b8f6d2f41",
   "metadata": {},
   "outputs": [
    {
     "name": "stdout",
     "output_type": "stream",
     "text": [
      "Mean of S: 2.5\n"
     ]
    }
   ],
   "source": [
    "s = np.array([1,2,3,4])\n",
    "mean = np.mean(s)\n",
    "print('Mean of S:',mean)"
   ]
  },
  {
   "cell_type": "code",
   "execution_count": 50,
   "id": "6b3c317c-f2a2-49ec-95a0-12d545777c84",
   "metadata": {},
   "outputs": [
    {
     "name": "stdout",
     "output_type": "stream",
     "text": [
      "Standard deviation od S : 1.118033988749895\n"
     ]
    }
   ],
   "source": [
    "#standard deviation of an araay \n",
    "std_dev = np.std(s)\n",
    "print(\"Standard deviation od S :\",std_dev)"
   ]
  },
  {
   "cell_type": "code",
   "execution_count": 52,
   "id": "770ef126-a5df-47af-a925-d6b1808925bd",
   "metadata": {},
   "outputs": [
    {
     "name": "stdout",
     "output_type": "stream",
     "text": [
      "Min of s: 1\n"
     ]
    }
   ],
   "source": [
    "#minimun element of an array\n",
    "minimum = np.min(s)\n",
    "print(\"Min of s:\",minimum)"
   ]
  },
  {
   "cell_type": "code",
   "execution_count": 54,
   "id": "a2092fac-e382-4345-8e57-0065b6fd8214",
   "metadata": {},
   "outputs": [
    {
     "name": "stdout",
     "output_type": "stream",
     "text": [
      "Max of S: 4\n"
     ]
    }
   ],
   "source": [
    "#Maximum element of an array \n",
    "maximum = np.max(s)\n",
    "print(\"Max of S:\",maximum)"
   ]
  },
  {
   "cell_type": "markdown",
   "id": "8b15bdbc-2d04-45b9-9593-0288ca22f43c",
   "metadata": {},
   "source": [
    "5.Linear Algerbra Function "
   ]
  },
  {
   "cell_type": "code",
   "execution_count": 57,
   "id": "5dde18a6-c7b5-409c-b4e7-287fe3b21b4b",
   "metadata": {},
   "outputs": [],
   "source": [
    "#b create a matrix\n",
    "matrix = np.array([[1,2],[3,4]])"
   ]
  },
  {
   "cell_type": "code",
   "execution_count": 59,
   "id": "f1d7b253-c4e7-4ae5-a2ac-a6feb6f4f503",
   "metadata": {},
   "outputs": [
    {
     "name": "stdout",
     "output_type": "stream",
     "text": [
      "Determinant of matrix: -2.0000000000000004\n"
     ]
    }
   ],
   "source": [
    "# Determinant of  a matrix \n",
    "determinant = np.linalg.det(matrix)\n",
    "print(\"Determinant of matrix:\", determinant)"
   ]
  },
  {
   "cell_type": "code",
   "execution_count": 65,
   "id": "cb00ae92-f6a1-4d19-a752-f71d0a65884e",
   "metadata": {},
   "outputs": [
    {
     "name": "stdout",
     "output_type": "stream",
     "text": [
      "Inverse of martix:\n",
      " [[-2.   1. ]\n",
      " [ 1.5 -0.5]]\n"
     ]
    }
   ],
   "source": [
    "# Inverse of a matrix\n",
    "inverse = np.linalg.inv(matrix)\n",
    "print(\"Inverse of martix:\\n\",inverse)"
   ]
  },
  {
   "cell_type": "markdown",
   "id": "c1defff5-c72c-45df-9d8f-a421d986782f",
   "metadata": {},
   "source": [
    "6 . Random Sampling Functions"
   ]
  },
  {
   "cell_type": "code",
   "execution_count": 72,
   "id": "c4b58f4e-5827-405a-8792-486c5616171e",
   "metadata": {},
   "outputs": [
    {
     "name": "stdout",
     "output_type": "stream",
     "text": [
      "Ramdom values: [0.37687776 0.44883577 0.05806477]\n"
     ]
    }
   ],
   "source": [
    "#Generate random values between o and 1 \n",
    "random_val = np.random.rand(3)# #  Array of 3 ramdom values between 0 and 1\n",
    "print(\"Ramdom values:\", random_val)"
   ]
  },
  {
   "cell_type": "code",
   "execution_count": 74,
   "id": "63db74de-b8e6-4437-a9bf-6750568eabff",
   "metadata": {},
   "outputs": [
    {
     "name": "stdout",
     "output_type": "stream",
     "text": [
      "Random values : [0.5488135  0.71518937 0.60276338]\n"
     ]
    }
   ],
   "source": [
    "# set seed for reproducibility \n",
    "np.random.seed(0)\n",
    "# Generate random values between 0 and 1\n",
    "random_vals = np.random.rand(3)\n",
    "print(\"Random values :\",random_vals)"
   ]
  },
  {
   "cell_type": "code",
   "execution_count": 80,
   "id": "5f6433e8-3ede-48ff-a26c-0d69ff4aa6f3",
   "metadata": {},
   "outputs": [
    {
     "name": "stdout",
     "output_type": "stream",
     "text": [
      "Random integers: [2 4 7 6 8]\n"
     ]
    }
   ],
   "source": [
    "# generate ramdom integers \n",
    "rand_ints = np.random.randint(0,10, size=5)#random integers between 0 and 10\n",
    "print(\"Random integers:\", rand_ints)"
   ]
  },
  {
   "cell_type": "code",
   "execution_count": 86,
   "id": "0ed1fe46-48c7-4fb0-b14d-6d212bc5e5db",
   "metadata": {},
   "outputs": [
    {
     "name": "stdout",
     "output_type": "stream",
     "text": [
      "Random integers: [5 0 3 3 7]\n"
     ]
    }
   ],
   "source": [
    "#set seed for reproducility \n",
    "np.random.seed(0) # how tomes you run you get same random numbers\n",
    "\n",
    "#Generate random integers \n",
    "rand_ints = np.random.randint(0,10,size=5)#random integers between 0 and 10\n",
    "print(\"Random integers:\",rand_ints)"
   ]
  },
  {
   "cell_type": "markdown",
   "id": "356d2209-d009-4fd0-aa42-c7555e033011",
   "metadata": {},
   "source": [
    "7.Boolean & Logical Functions"
   ]
  },
  {
   "cell_type": "code",
   "execution_count": 91,
   "id": "bbaa34ea-ea01-46e2-b2be-ed13a647830c",
   "metadata": {},
   "outputs": [
    {
     "name": "stdout",
     "output_type": "stream",
     "text": [
      "All element True: False\n"
     ]
    }
   ],
   "source": [
    "# Check if all elements are true \n",
    "# All\n",
    "logical_test = np.array([True,False,True])\n",
    "all_true = np.all(logical_test)\n",
    "print(\"All element True:\", all_true)"
   ]
  },
  {
   "cell_type": "code",
   "execution_count": 93,
   "id": "c4a7edd0-0e56-499c-8172-d274ec059392",
   "metadata": {},
   "outputs": [
    {
     "name": "stdout",
     "output_type": "stream",
     "text": [
      "All element True: False\n"
     ]
    }
   ],
   "source": [
    "logical_test = np.array([False,False,False])\n",
    "all_true = np.all(logical_test)\n",
    "print(\"All element True:\", all_true)"
   ]
  },
  {
   "cell_type": "code",
   "execution_count": 95,
   "id": "88448b73-f819-4b6a-82ef-d328f91c8b37",
   "metadata": {},
   "outputs": [
    {
     "name": "stdout",
     "output_type": "stream",
     "text": [
      "All element True: True\n"
     ]
    }
   ],
   "source": [
    "logical_test = np.array([True,True,True])\n",
    "all_true = np.all(logical_test)\n",
    "print(\"All element True:\", all_true)"
   ]
  },
  {
   "cell_type": "code",
   "execution_count": 97,
   "id": "6415dd97-13f4-4288-a10c-55e923a7e7f5",
   "metadata": {},
   "outputs": [
    {
     "name": "stdout",
     "output_type": "stream",
     "text": [
      "Any element True: True\n"
     ]
    }
   ],
   "source": [
    "# Check if any elements are True\n",
    "# any\n",
    "any_true = np.any(logical_test) # Check if any are true\n",
    "print(\"Any element True:\", any_true)"
   ]
  },
  {
   "cell_type": "markdown",
   "id": "baa9c26c-2225-45b0-b372-02e058d96bdd",
   "metadata": {},
   "source": [
    "8.Set operations"
   ]
  },
  {
   "cell_type": "code",
   "execution_count": 102,
   "id": "e3b5102c-6e74-406b-af70-07a7cd9d956f",
   "metadata": {},
   "outputs": [
    {
     "name": "stdout",
     "output_type": "stream",
     "text": [
      "Union of a and b: [3 4]\n"
     ]
    }
   ],
   "source": [
    "# Intersection of two arrays \n",
    "set_a = np.array([1,2,3,4])\n",
    "set_b = np.array([3,4,5,6])\n",
    "intersection = np.intersect1d(set_a,set_b)\n",
    "print('Union of a and b:',intersection)"
   ]
  },
  {
   "cell_type": "markdown",
   "id": "d3df38fc-dc3a-49dd-94dc-2978a338c794",
   "metadata": {},
   "source": [
    "#union of two arrays\n",
    "union = np.union1d(set_a,set_b)\n",
    "print(\"Union of and b:\", union)"
   ]
  },
  {
   "cell_type": "markdown",
   "id": "6b164561-956a-48a4-8c05-3018694d44ac",
   "metadata": {},
   "source": [
    "9.Array Attribute Function"
   ]
  },
  {
   "cell_type": "code",
   "execution_count": 116,
   "id": "12dfd480-d679-44f5-8cc2-15abf39446d3",
   "metadata": {},
   "outputs": [
    {
     "name": "stdout",
     "output_type": "stream",
     "text": [
      "Shape of a: (3,)\n",
      "Size of a: 3\n",
      "Number of dimensions of a: 1\n",
      "Data type of a: int32\n"
     ]
    }
   ],
   "source": [
    "#array attributes\n",
    "a = np.array([1, 2, 3])\n",
    "shape = a.shape  # Shape of the array\n",
    "size = a.size    # Number of elements\n",
    "dimensions = a.ndim  # Number of dimensions\n",
    "dtype = a.dtype   # Data type of the array\n",
    "\n",
    "print(\"Shape of a:\", shape)\n",
    "print(\"Size of a:\", size)\n",
    "print(\"Number of dimensions of a:\", dimensions)\n",
    "print(\"Data type of a:\", dtype)"
   ]
  },
  {
   "cell_type": "markdown",
   "id": "47df22f3-8ef1-43d0-a203-c5413ecf30ca",
   "metadata": {},
   "source": [
    "10.Other functions"
   ]
  },
  {
   "cell_type": "code",
   "execution_count": 119,
   "id": "33cf0c49-181d-42a3-ad3b-ae3e0e238e97",
   "metadata": {},
   "outputs": [
    {
     "name": "stdout",
     "output_type": "stream",
     "text": [
      "Copied array: [1 2 3]\n"
     ]
    }
   ],
   "source": [
    "# Create a copy of an array\n",
    "a = np.array([1, 2, 3])\n",
    "copied_array = np.copy(a)  # Create a copy of array a\n",
    "print(\"Copied array:\", copied_array)"
   ]
  },
  {
   "cell_type": "code",
   "execution_count": 121,
   "id": "fc19c463-045f-4540-86fc-88ae15eecfd6",
   "metadata": {},
   "outputs": [
    {
     "name": "stdout",
     "output_type": "stream",
     "text": [
      "Size of a in bytes: 12\n"
     ]
    }
   ],
   "source": [
    "# Size in bytes of an array\n",
    "array_size_in_bytes = a.nbytes  # Size in bytes\n",
    "print(\"Size of a in bytes:\", array_size_in_bytes)"
   ]
  },
  {
   "cell_type": "code",
   "execution_count": 123,
   "id": "744e49a0-87da-41f1-b8ca-ecd826ab4d41",
   "metadata": {},
   "outputs": [
    {
     "name": "stdout",
     "output_type": "stream",
     "text": [
      "Do a and copied_array share memory? False\n"
     ]
    }
   ],
   "source": [
    "# Check if two arrays share memory\n",
    "shared = np.shares_memory(a, copied_array)  # Check if arrays share memory\n",
    "print(\"Do a and copied_array share memory?\", shared)"
   ]
  },
  {
   "cell_type": "code",
   "execution_count": null,
   "id": "9153485a-1bce-40a2-a621-af020d0e1c4d",
   "metadata": {},
   "outputs": [],
   "source": []
  }
 ],
 "metadata": {
  "kernelspec": {
   "display_name": "Python [conda env:base] *",
   "language": "python",
   "name": "conda-base-py"
  },
  "language_info": {
   "codemirror_mode": {
    "name": "ipython",
    "version": 3
   },
   "file_extension": ".py",
   "mimetype": "text/x-python",
   "name": "python",
   "nbconvert_exporter": "python",
   "pygments_lexer": "ipython3",
   "version": "3.12.7"
  }
 },
 "nbformat": 4,
 "nbformat_minor": 5
}
