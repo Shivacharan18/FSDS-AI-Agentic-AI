{
 "cells": [
  {
   "cell_type": "markdown",
   "id": "e22b304b-9220-485e-9a47-06f5ad2223d8",
   "metadata": {},
   "source": [
    "Range"
   ]
  },
  {
   "cell_type": "code",
   "execution_count": 2,
   "id": "af5b7247-db1c-4b27-b350-ada7ba984aaf",
   "metadata": {},
   "outputs": [
    {
     "data": {
      "text/plain": [
       "range(0, 5)"
      ]
     },
     "execution_count": 2,
     "metadata": {},
     "output_type": "execute_result"
    }
   ],
   "source": [
    "range(5)"
   ]
  },
  {
   "cell_type": "code",
   "execution_count": 6,
   "id": "8a6975f7-d5ce-4837-b248-328967d00110",
   "metadata": {},
   "outputs": [
    {
     "data": {
      "text/plain": [
       "[0, 1, 2, 3, 4]"
      ]
     },
     "execution_count": 6,
     "metadata": {},
     "output_type": "execute_result"
    }
   ],
   "source": [
    "list(range(5))"
   ]
  },
  {
   "cell_type": "code",
   "execution_count": 10,
   "id": "432372f8-5ab2-493f-b90f-301f3ade47ce",
   "metadata": {},
   "outputs": [
    {
     "data": {
      "text/plain": [
       "range(10, 20)"
      ]
     },
     "execution_count": 10,
     "metadata": {},
     "output_type": "execute_result"
    }
   ],
   "source": [
    "range(10,20)"
   ]
  },
  {
   "cell_type": "code",
   "execution_count": 12,
   "id": "28591fb2-bbf8-46ba-9e0c-bb52296e7a98",
   "metadata": {},
   "outputs": [
    {
     "data": {
      "text/plain": [
       "[10, 11, 12, 13, 14, 15, 16, 17, 18, 19]"
      ]
     },
     "execution_count": 12,
     "metadata": {},
     "output_type": "execute_result"
    }
   ],
   "source": [
    "list(range(10,20))"
   ]
  },
  {
   "cell_type": "code",
   "execution_count": 14,
   "id": "ebd67993-e9d8-45b8-805a-9ca983f5be0a",
   "metadata": {},
   "outputs": [
    {
     "data": {
      "text/plain": [
       "range(10, 20, 3)"
      ]
     },
     "execution_count": 14,
     "metadata": {},
     "output_type": "execute_result"
    }
   ],
   "source": [
    "range(10,20,3)"
   ]
  },
  {
   "cell_type": "code",
   "execution_count": 16,
   "id": "a6a1674b-31ad-46f5-b5e1-55d871bae80d",
   "metadata": {},
   "outputs": [
    {
     "data": {
      "text/plain": [
       "[10, 13, 16, 19]"
      ]
     },
     "execution_count": 16,
     "metadata": {},
     "output_type": "execute_result"
    }
   ],
   "source": [
    "list(range(10,20,3))"
   ]
  },
  {
   "cell_type": "code",
   "execution_count": 18,
   "id": "f9ab10d3-9cd4-4580-a487-c180ebc73710",
   "metadata": {},
   "outputs": [
    {
     "data": {
      "text/plain": [
       "[10, 15, 20, 25, 30, 35, 40, 45]"
      ]
     },
     "execution_count": 18,
     "metadata": {},
     "output_type": "execute_result"
    }
   ],
   "source": [
    "list(range(10,50,5))"
   ]
  },
  {
   "cell_type": "code",
   "execution_count": 20,
   "id": "31079f8d-8a66-4b56-9e8b-b6b18034a59c",
   "metadata": {},
   "outputs": [
    {
     "ename": "TypeError",
     "evalue": "range expected at most 3 arguments, got 4",
     "output_type": "error",
     "traceback": [
      "\u001b[1;31m---------------------------------------------------------------------------\u001b[0m",
      "\u001b[1;31mTypeError\u001b[0m                                 Traceback (most recent call last)",
      "Cell \u001b[1;32mIn[20], line 1\u001b[0m\n\u001b[1;32m----> 1\u001b[0m \u001b[38;5;28mlist\u001b[39m(\u001b[38;5;28mrange\u001b[39m(\u001b[38;5;241m1\u001b[39m,\u001b[38;5;241m2\u001b[39m,\u001b[38;5;241m3\u001b[39m,\u001b[38;5;241m4\u001b[39m))\n",
      "\u001b[1;31mTypeError\u001b[0m: range expected at most 3 arguments, got 4"
     ]
    }
   ],
   "source": [
    "list(range(1,2,3,4))"
   ]
  },
  {
   "cell_type": "code",
   "execution_count": 1,
   "id": "43d7b41b-8abc-41c0-bfba-76d3523a45b2",
   "metadata": {},
   "outputs": [
    {
     "data": {
      "text/plain": [
       "[0, 5, 10]"
      ]
     },
     "execution_count": 1,
     "metadata": {},
     "output_type": "execute_result"
    }
   ],
   "source": [
    "list(range(0,11,5))"
   ]
  },
  {
   "cell_type": "code",
   "execution_count": 3,
   "id": "eb44a006-2285-4266-8b86-e3692309f4b2",
   "metadata": {},
   "outputs": [
    {
     "data": {
      "text/plain": [
       "range(0, 11, 5)"
      ]
     },
     "execution_count": 3,
     "metadata": {},
     "output_type": "execute_result"
    }
   ],
   "source": [
    "r = range(0,11,5)\n",
    "r"
   ]
  },
  {
   "cell_type": "code",
   "execution_count": 5,
   "id": "5e5e8593-8ed6-43e1-897b-98f1ec7cea97",
   "metadata": {},
   "outputs": [
    {
     "name": "stdout",
     "output_type": "stream",
     "text": [
      "0\n",
      "5\n",
      "10\n"
     ]
    }
   ],
   "source": [
    "for i in r:\n",
    "    print(i)"
   ]
  },
  {
   "cell_type": "markdown",
   "id": "70310ce0-6fca-4c3c-b137-d6b1f12acfae",
   "metadata": {},
   "source": [
    "Advance slicing:"
   ]
  },
  {
   "cell_type": "code",
   "execution_count": 10,
   "id": "66879f63-5201-403f-b1dc-bfc94c743397",
   "metadata": {},
   "outputs": [],
   "source": [
    "l = ['a','b','c',1,2,18,1.7,True,18+17j]"
   ]
  },
  {
   "cell_type": "code",
   "execution_count": 13,
   "id": "30888b7f-25f9-46d4-a8b7-fa094bce01b7",
   "metadata": {},
   "outputs": [
    {
     "data": {
      "text/plain": [
       "['a', 'b', 'c', 1, 2, 18, 1.7, True, (18+17j)]"
      ]
     },
     "execution_count": 13,
     "metadata": {},
     "output_type": "execute_result"
    }
   ],
   "source": [
    "l"
   ]
  },
  {
   "cell_type": "code",
   "execution_count": 15,
   "id": "6584c43f-4d50-44ad-a15d-c84e312dff97",
   "metadata": {},
   "outputs": [
    {
     "data": {
      "text/plain": [
       "['a', 'b', 'c', 1, 2, 18, 1.7, True, (18+17j)]"
      ]
     },
     "execution_count": 15,
     "metadata": {},
     "output_type": "execute_result"
    }
   ],
   "source": [
    "l[:]"
   ]
  },
  {
   "cell_type": "code",
   "execution_count": 17,
   "id": "14c7d438-6a92-4242-b15b-ea0d3d3246bd",
   "metadata": {},
   "outputs": [
    {
     "data": {
      "text/plain": [
       "[1, 2, 18, 1.7, True, (18+17j)]"
      ]
     },
     "execution_count": 17,
     "metadata": {},
     "output_type": "execute_result"
    }
   ],
   "source": [
    "l[3:]"
   ]
  },
  {
   "cell_type": "code",
   "execution_count": 19,
   "id": "7dea42dd-a317-45bd-8e99-9aaa972b0c0c",
   "metadata": {},
   "outputs": [
    {
     "data": {
      "text/plain": [
       "[2, 18, 1.7, True, (18+17j)]"
      ]
     },
     "execution_count": 19,
     "metadata": {},
     "output_type": "execute_result"
    }
   ],
   "source": [
    "l[-5:]"
   ]
  },
  {
   "cell_type": "code",
   "execution_count": 21,
   "id": "078f2cf2-1301-4bdf-bf9a-1a6bcef1507b",
   "metadata": {},
   "outputs": [
    {
     "data": {
      "text/plain": [
       "18"
      ]
     },
     "execution_count": 21,
     "metadata": {},
     "output_type": "execute_result"
    }
   ],
   "source": [
    "l[5]"
   ]
  },
  {
   "cell_type": "code",
   "execution_count": 23,
   "id": "0e401ebe-7e08-473b-badc-7d1ee815258a",
   "metadata": {},
   "outputs": [
    {
     "data": {
      "text/plain": [
       "2"
      ]
     },
     "execution_count": 23,
     "metadata": {},
     "output_type": "execute_result"
    }
   ],
   "source": [
    "l[-5]"
   ]
  },
  {
   "cell_type": "code",
   "execution_count": 25,
   "id": "b6f1d0ee-3901-4ed3-9087-def327e81577",
   "metadata": {},
   "outputs": [
    {
     "data": {
      "text/plain": [
       "['c', 1, 2, 18, 1.7, True, (18+17j)]"
      ]
     },
     "execution_count": 25,
     "metadata": {},
     "output_type": "execute_result"
    }
   ],
   "source": [
    "l[2:9]"
   ]
  },
  {
   "cell_type": "code",
   "execution_count": 27,
   "id": "067766d7-c34a-4206-8218-c5505a3f0293",
   "metadata": {},
   "outputs": [
    {
     "data": {
      "text/plain": [
       "['c', 1, 2, 18, 1.7]"
      ]
     },
     "execution_count": 27,
     "metadata": {},
     "output_type": "execute_result"
    }
   ],
   "source": [
    "l[2:7]"
   ]
  },
  {
   "cell_type": "code",
   "execution_count": 29,
   "id": "32209cbd-09c2-4577-a7d9-d3dc95ee860e",
   "metadata": {},
   "outputs": [
    {
     "data": {
      "text/plain": [
       "['c', 18]"
      ]
     },
     "execution_count": 29,
     "metadata": {},
     "output_type": "execute_result"
    }
   ],
   "source": [
    "l[2:7:3]"
   ]
  },
  {
   "cell_type": "code",
   "execution_count": 33,
   "id": "121cd447-4995-47e2-91b0-bbe0c814af59",
   "metadata": {},
   "outputs": [
    {
     "data": {
      "text/plain": [
       "['c', 2, 1.7]"
      ]
     },
     "execution_count": 33,
     "metadata": {},
     "output_type": "execute_result"
    }
   ],
   "source": [
    "l[2:7:2]"
   ]
  },
  {
   "cell_type": "code",
   "execution_count": 35,
   "id": "7db13874-307d-4ed9-93a6-b4a1f2488743",
   "metadata": {},
   "outputs": [
    {
     "data": {
      "text/plain": [
       "[]"
      ]
     },
     "execution_count": 35,
     "metadata": {},
     "output_type": "execute_result"
    }
   ],
   "source": [
    "l[-5:3]"
   ]
  },
  {
   "cell_type": "code",
   "execution_count": 37,
   "id": "45b5f586-fcd0-4897-85ba-54c63bda7038",
   "metadata": {},
   "outputs": [
    {
     "data": {
      "text/plain": [
       "[2, 18]"
      ]
     },
     "execution_count": 37,
     "metadata": {},
     "output_type": "execute_result"
    }
   ],
   "source": [
    "l[-5:-3]"
   ]
  },
  {
   "cell_type": "code",
   "execution_count": 39,
   "id": "915639ef-e6e0-43e1-8975-a92a84ea75ca",
   "metadata": {},
   "outputs": [],
   "source": [
    "s = ['icici','SBI','HDFC','Reserve','union','canara','central']"
   ]
  },
  {
   "cell_type": "code",
   "execution_count": 41,
   "id": "b88f2219-44ad-43e3-ad7e-e64d953a21c3",
   "metadata": {},
   "outputs": [
    {
     "data": {
      "text/plain": [
       "['icici', 'SBI', 'HDFC', 'Reserve', 'union', 'canara', 'central']"
      ]
     },
     "execution_count": 41,
     "metadata": {},
     "output_type": "execute_result"
    }
   ],
   "source": [
    "s"
   ]
  },
  {
   "cell_type": "code",
   "execution_count": 43,
   "id": "5bcd8c95-83ee-40c5-82d5-f8fe3e9d980a",
   "metadata": {},
   "outputs": [
    {
     "data": {
      "text/plain": [
       "7"
      ]
     },
     "execution_count": 43,
     "metadata": {},
     "output_type": "execute_result"
    }
   ],
   "source": [
    "len(s)"
   ]
  },
  {
   "cell_type": "code",
   "execution_count": 45,
   "id": "de67aee0-c03d-4563-8241-c42ba117b255",
   "metadata": {},
   "outputs": [
    {
     "data": {
      "text/plain": [
       "['icici', 'SBI', 'HDFC', 'Reserve', 'union', 'canara']"
      ]
     },
     "execution_count": 45,
     "metadata": {},
     "output_type": "execute_result"
    }
   ],
   "source": [
    "s[-7:-1]"
   ]
  },
  {
   "cell_type": "code",
   "execution_count": 47,
   "id": "e57e150b-0b4e-4cf2-9015-0c0a4970f109",
   "metadata": {},
   "outputs": [
    {
     "data": {
      "text/plain": [
       "['icici', 'SBI', 'HDFC', 'Reserve', 'union', 'canara', 'central']"
      ]
     },
     "execution_count": 47,
     "metadata": {},
     "output_type": "execute_result"
    }
   ],
   "source": [
    "s"
   ]
  },
  {
   "cell_type": "code",
   "execution_count": 49,
   "id": "6c7fe697-5ef3-4a1f-995d-2714c1fd3c24",
   "metadata": {},
   "outputs": [
    {
     "data": {
      "text/plain": [
       "['central', 'canara', 'union', 'Reserve', 'HDFC', 'SBI', 'icici']"
      ]
     },
     "execution_count": 49,
     "metadata": {},
     "output_type": "execute_result"
    }
   ],
   "source": [
    "s[::-1]"
   ]
  },
  {
   "cell_type": "code",
   "execution_count": 51,
   "id": "2c4ac33d-ed1c-4d1c-8853-62e22ab12074",
   "metadata": {},
   "outputs": [
    {
     "data": {
      "text/plain": [
       "['icici', 'SBI', 'HDFC', 'Reserve', 'union', 'canara', 'central']"
      ]
     },
     "execution_count": 51,
     "metadata": {},
     "output_type": "execute_result"
    }
   ],
   "source": [
    "s"
   ]
  },
  {
   "cell_type": "code",
   "execution_count": 53,
   "id": "993fb721-d1a2-4bc5-8cb3-cab07225ade3",
   "metadata": {},
   "outputs": [
    {
     "data": {
      "text/plain": [
       "['central', 'union', 'HDFC', 'icici']"
      ]
     },
     "execution_count": 53,
     "metadata": {},
     "output_type": "execute_result"
    }
   ],
   "source": [
    "s[::-2]"
   ]
  },
  {
   "cell_type": "code",
   "execution_count": 55,
   "id": "16b01468-2c38-4fc8-817f-619078fd6ce2",
   "metadata": {},
   "outputs": [
    {
     "data": {
      "text/plain": [
       "['central', 'SBI']"
      ]
     },
     "execution_count": 55,
     "metadata": {},
     "output_type": "execute_result"
    }
   ],
   "source": [
    "s[::-5]"
   ]
  },
  {
   "cell_type": "code",
   "execution_count": null,
   "id": "7cbff0f0-b5f1-4da1-bdcd-148bcaf85e97",
   "metadata": {},
   "outputs": [],
   "source": []
  }
 ],
 "metadata": {
  "kernelspec": {
   "display_name": "Python [conda env:base] *",
   "language": "python",
   "name": "conda-base-py"
  },
  "language_info": {
   "codemirror_mode": {
    "name": "ipython",
    "version": 3
   },
   "file_extension": ".py",
   "mimetype": "text/x-python",
   "name": "python",
   "nbconvert_exporter": "python",
   "pygments_lexer": "ipython3",
   "version": "3.12.7"
  }
 },
 "nbformat": 4,
 "nbformat_minor": 5
}
