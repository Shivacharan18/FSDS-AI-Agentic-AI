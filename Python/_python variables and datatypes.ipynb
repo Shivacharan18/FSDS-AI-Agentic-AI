{
 "cells": [
  {
   "cell_type": "markdown",
   "id": "6046ef85-ca3b-4d26-96e7-8da7a6f0a3b9",
   "metadata": {},
   "source": [
    "VARIABLES\n"
   ]
  },
  {
   "cell_type": "code",
   "execution_count": 1,
   "id": "ebb128d7-035b-4a52-820c-53ef84f468b8",
   "metadata": {},
   "outputs": [
    {
     "data": {
      "text/plain": [
       "9"
      ]
     },
     "execution_count": 1,
     "metadata": {},
     "output_type": "execute_result"
    }
   ],
   "source": [
    "9"
   ]
  },
  {
   "cell_type": "code",
   "execution_count": 3,
   "id": "ee4ef32e-b3d6-47a5-9c71-9b78f98f7b9a",
   "metadata": {},
   "outputs": [
    {
     "data": {
      "text/plain": [
       "18"
      ]
     },
     "execution_count": 3,
     "metadata": {},
     "output_type": "execute_result"
    }
   ],
   "source": [
    "9 + 9"
   ]
  },
  {
   "cell_type": "code",
   "execution_count": 5,
   "id": "4f5a48c6-ebf0-43b9-8f20-0cd237b8a9fd",
   "metadata": {},
   "outputs": [
    {
     "data": {
      "text/plain": [
       "81"
      ]
     },
     "execution_count": 5,
     "metadata": {},
     "output_type": "execute_result"
    }
   ],
   "source": [
    "9 * 9"
   ]
  },
  {
   "cell_type": "code",
   "execution_count": 7,
   "id": "46b1edb6-b800-423a-adde-ecc37e0e43e8",
   "metadata": {},
   "outputs": [
    {
     "data": {
      "text/plain": [
       "0"
      ]
     },
     "execution_count": 7,
     "metadata": {},
     "output_type": "execute_result"
    }
   ],
   "source": [
    "9 - 9"
   ]
  },
  {
   "cell_type": "code",
   "execution_count": 9,
   "id": "ff1a12c0-418d-4c3e-9880-d61083742c91",
   "metadata": {},
   "outputs": [
    {
     "data": {
      "text/plain": [
       "1.0"
      ]
     },
     "execution_count": 9,
     "metadata": {},
     "output_type": "execute_result"
    }
   ],
   "source": [
    "9 / 9 # float devision"
   ]
  },
  {
   "cell_type": "code",
   "execution_count": 11,
   "id": "aca62b83-95f9-4c44-a749-32b777281693",
   "metadata": {},
   "outputs": [
    {
     "data": {
      "text/plain": [
       "1"
      ]
     },
     "execution_count": 11,
     "metadata": {},
     "output_type": "execute_result"
    }
   ],
   "source": [
    "9 // 9 # int devision "
   ]
  },
  {
   "cell_type": "code",
   "execution_count": 13,
   "id": "821bcefc-16ec-4069-ba35-8e97c8d19166",
   "metadata": {},
   "outputs": [
    {
     "data": {
      "text/plain": [
       "8"
      ]
     },
     "execution_count": 13,
     "metadata": {},
     "output_type": "execute_result"
    }
   ],
   "source": [
    "2**3 # cube "
   ]
  },
  {
   "cell_type": "code",
   "execution_count": 15,
   "id": "3dff9db4-bd74-434d-8943-340ce79cf7e5",
   "metadata": {},
   "outputs": [
    {
     "data": {
      "text/plain": [
       "-3"
      ]
     },
     "execution_count": 15,
     "metadata": {},
     "output_type": "execute_result"
    }
   ],
   "source": [
    "3 * (6-8)+3 "
   ]
  },
  {
   "cell_type": "code",
   "execution_count": 17,
   "id": "6d3b3c27-994a-4799-8a2d-52c37f44986a",
   "metadata": {},
   "outputs": [
    {
     "data": {
      "text/plain": [
       "13"
      ]
     },
     "execution_count": 17,
     "metadata": {},
     "output_type": "execute_result"
    }
   ],
   "source": [
    "3 * 6-8+3 #boardmas"
   ]
  },
  {
   "cell_type": "code",
   "execution_count": 22,
   "id": "d92b6a37-a0bf-45c7-8492-416240c1a4d0",
   "metadata": {
    "jp-MarkdownHeadingCollapsed": true
   },
   "outputs": [
    {
     "data": {
      "text/plain": [
       "0"
      ]
     },
     "execution_count": 22,
     "metadata": {},
     "output_type": "execute_result"
    }
   ],
   "source": [
    " 9 % 9"
   ]
  },
  {
   "cell_type": "code",
   "execution_count": 24,
   "id": "6df2cea1-e59a-4d65-9914-c5c8dca5895a",
   "metadata": {},
   "outputs": [
    {
     "data": {
      "text/plain": [
       "False"
      ]
     },
     "execution_count": 24,
     "metadata": {},
     "output_type": "execute_result"
    }
   ],
   "source": [
    "3 > 5"
   ]
  },
  {
   "cell_type": "code",
   "execution_count": 26,
   "id": "91d980d8-c2dd-47a9-9c18-528db01d53ca",
   "metadata": {},
   "outputs": [
    {
     "data": {
      "text/plain": [
       "True"
      ]
     },
     "execution_count": 26,
     "metadata": {},
     "output_type": "execute_result"
    }
   ],
   "source": [
    "3 < 5"
   ]
  },
  {
   "cell_type": "code",
   "execution_count": 28,
   "id": "81243675-b14c-4eab-ac40-9dd1228ec8a4",
   "metadata": {},
   "outputs": [
    {
     "data": {
      "text/plain": [
       "False"
      ]
     },
     "execution_count": 28,
     "metadata": {},
     "output_type": "execute_result"
    }
   ],
   "source": [
    "3 == 5"
   ]
  },
  {
   "cell_type": "code",
   "execution_count": 32,
   "id": "df8d344d-cfe1-4110-8f9c-2d0ac9880499",
   "metadata": {},
   "outputs": [
    {
     "ename": "SyntaxError",
     "evalue": "invalid syntax (3494112411.py, line 1)",
     "output_type": "error",
     "traceback": [
      "\u001b[1;36m  Cell \u001b[1;32mIn[32], line 1\u001b[1;36m\u001b[0m\n\u001b[1;33m    3 ! = 5 #no gap between ! and =\u001b[0m\n\u001b[1;37m      ^\u001b[0m\n\u001b[1;31mSyntaxError\u001b[0m\u001b[1;31m:\u001b[0m invalid syntax\n"
     ]
    }
   ],
   "source": [
    "3 ! = 5 #no gap between ! and ="
   ]
  },
  {
   "cell_type": "code",
   "execution_count": 34,
   "id": "0774c18e-a517-4ef0-91fe-d10c5d0eee40",
   "metadata": {},
   "outputs": [
    {
     "data": {
      "text/plain": [
       "True"
      ]
     },
     "execution_count": 34,
     "metadata": {},
     "output_type": "execute_result"
    }
   ],
   "source": [
    "3 != 5 # Not equal symbol (!=)"
   ]
  },
  {
   "cell_type": "markdown",
   "id": "9677e548-d85c-4414-a671-c732d672548b",
   "metadata": {},
   "source": [
    " WORKING NUMBERS WITH PYTHON & PYTHON OPERATOR\n",
    " ARITHMETIC OPERATOR -- + , - , %, / , //, *"
   ]
  },
  {
   "cell_type": "code",
   "execution_count": 36,
   "id": "bf97de75-8cc2-4bf7-846c-8ec5cf0c0034",
   "metadata": {},
   "outputs": [
    {
     "ename": "SyntaxError",
     "evalue": "invalid syntax (882913014.py, line 1)",
     "output_type": "error",
     "traceback": [
      "\u001b[1;36m  Cell \u001b[1;32mIn[36], line 1\u001b[1;36m\u001b[0m\n\u001b[1;33m    WELCOME TO NARESHIT\u001b[0m\n\u001b[1;37m            ^\u001b[0m\n\u001b[1;31mSyntaxError\u001b[0m\u001b[1;31m:\u001b[0m invalid syntax\n"
     ]
    }
   ],
   "source": [
    "WELCOME TO NARESHIT"
   ]
  },
  {
   "cell_type": "code",
   "execution_count": null,
   "id": "4c9462fd-a3b1-4aad-b390-51f4f15f0320",
   "metadata": {},
   "outputs": [],
   "source": [
    "'WELCOME TO NARESHIT '"
   ]
  },
  {
   "cell_type": "code",
   "execution_count": 40,
   "id": "965c9e3a-5bf6-4f31-9ecd-52f4e8ddf1b7",
   "metadata": {},
   "outputs": [
    {
     "data": {
      "text/plain": [
       "'WELCOME TO NARESHIT'"
      ]
     },
     "execution_count": 40,
     "metadata": {},
     "output_type": "execute_result"
    }
   ],
   "source": [
    "\"WELCOME TO NARESHIT\""
   ]
  },
  {
   "cell_type": "code",
   "execution_count": 42,
   "id": "d921679c-0a0b-46a5-ba0b-f37416dd7032",
   "metadata": {},
   "outputs": [
    {
     "data": {
      "text/plain": [
       "'WELCOME TO NARESHIT'"
      ]
     },
     "execution_count": 42,
     "metadata": {},
     "output_type": "execute_result"
    }
   ],
   "source": [
    "'''WELCOME TO NARESHIT'''"
   ]
  },
  {
   "cell_type": "code",
   "execution_count": 44,
   "id": "43a5f9d6-2c79-4573-991c-6ac5b3a04a59",
   "metadata": {},
   "outputs": [
    {
     "data": {
      "text/plain": [
       "'wel come \\n  to \\n  python'"
      ]
     },
     "execution_count": 44,
     "metadata": {},
     "output_type": "execute_result"
    }
   ],
   "source": [
    "'''wel come \n",
    "  to \n",
    "  python'''"
   ]
  },
  {
   "cell_type": "markdown",
   "id": "f8eb4e45-4eba-494d-b694-8eab204dcbec",
   "metadata": {},
   "source": [
    "python (variables = object = identifier) "
   ]
  },
  {
   "cell_type": "code",
   "execution_count": 56,
   "id": "7a4b8bb5-7e9a-40b1-873a-731be080e059",
   "metadata": {},
   "outputs": [
    {
     "data": {
      "text/plain": [
       "5"
      ]
     },
     "execution_count": 56,
     "metadata": {},
     "output_type": "execute_result"
    }
   ],
   "source": [
    "v = 5\n",
    "v"
   ]
  },
  {
   "cell_type": "code",
   "execution_count": 58,
   "id": "1babffd7-e3c9-44a3-82bf-c8683daf1a66",
   "metadata": {},
   "outputs": [
    {
     "data": {
      "text/plain": [
       "int"
      ]
     },
     "execution_count": 58,
     "metadata": {},
     "output_type": "execute_result"
    }
   ],
   "source": [
    "type(v)"
   ]
  },
  {
   "cell_type": "code",
   "execution_count": 60,
   "id": "07ab2c83-27e7-41fb-968f-af50558db282",
   "metadata": {},
   "outputs": [
    {
     "ename": "SyntaxError",
     "evalue": "cannot assign to literal here. Maybe you meant '==' instead of '='? (237110408.py, line 1)",
     "output_type": "error",
     "traceback": [
      "\u001b[1;36m  Cell \u001b[1;32mIn[60], line 1\u001b[1;36m\u001b[0m\n\u001b[1;33m    5 = v\u001b[0m\n\u001b[1;37m    ^\u001b[0m\n\u001b[1;31mSyntaxError\u001b[0m\u001b[1;31m:\u001b[0m cannot assign to literal here. Maybe you meant '==' instead of '='?\n"
     ]
    }
   ],
   "source": [
    "5 = v"
   ]
  },
  {
   "cell_type": "code",
   "execution_count": 64,
   "id": "a822884b-b964-45a7-b2bc-fd41bd63f1c6",
   "metadata": {},
   "outputs": [
    {
     "ename": "SyntaxError",
     "evalue": "invalid decimal literal (4103157182.py, line 1)",
     "output_type": "error",
     "traceback": [
      "\u001b[1;36m  Cell \u001b[1;32mIn[64], line 1\u001b[1;36m\u001b[0m\n\u001b[1;33m    1v = 10\u001b[0m\n\u001b[1;37m    ^\u001b[0m\n\u001b[1;31mSyntaxError\u001b[0m\u001b[1;31m:\u001b[0m invalid decimal literal\n"
     ]
    }
   ],
   "source": [
    "1v = 10 #DIGITS CAN INCLUDED BUT CAT'N START WITH WITH IT \n",
    "1v"
   ]
  },
  {
   "cell_type": "code",
   "execution_count": 66,
   "id": "3792cac1-7bfe-4d19-972d-9d2eeecaf781",
   "metadata": {},
   "outputs": [
    {
     "data": {
      "text/plain": [
       "10"
      ]
     },
     "execution_count": 66,
     "metadata": {},
     "output_type": "execute_result"
    }
   ],
   "source": [
    "v1 = 10 \n",
    "v1"
   ]
  },
  {
   "cell_type": "code",
   "execution_count": 68,
   "id": "7146fdba-1649-4e1d-a34a-b3a848588058",
   "metadata": {},
   "outputs": [
    {
     "data": {
      "text/plain": [
       "140720385698520"
      ]
     },
     "execution_count": 68,
     "metadata": {},
     "output_type": "execute_result"
    }
   ],
   "source": [
    "id(v1)  # Id is also called as a address and it is unique."
   ]
  },
  {
   "cell_type": "code",
   "execution_count": 70,
   "id": "a56ea900-b5b7-4262-a26d-6433bfd3b303",
   "metadata": {},
   "outputs": [
    {
     "data": {
      "text/plain": [
       "1.3"
      ]
     },
     "execution_count": 70,
     "metadata": {},
     "output_type": "execute_result"
    }
   ],
   "source": [
    "b1 = 1.3 \n",
    "b1"
   ]
  },
  {
   "cell_type": "code",
   "execution_count": 72,
   "id": "53c1c07b-a624-4ba9-8790-ad869831eb12",
   "metadata": {},
   "outputs": [
    {
     "data": {
      "text/plain": [
       "float"
      ]
     },
     "execution_count": 72,
     "metadata": {},
     "output_type": "execute_result"
    }
   ],
   "source": [
    "type(b1)"
   ]
  },
  {
   "cell_type": "code",
   "execution_count": 74,
   "id": "e30dbd15-2a56-49bd-95e0-569fb17c2e94",
   "metadata": {},
   "outputs": [
    {
     "data": {
      "text/plain": [
       "18"
      ]
     },
     "execution_count": 74,
     "metadata": {},
     "output_type": "execute_result"
    }
   ],
   "source": [
    "v_ = 18 # special character are not allowed except \"_\"\n",
    "v_"
   ]
  },
  {
   "cell_type": "code",
   "execution_count": 76,
   "id": "246905eb-8328-4d8e-9eeb-4698986c61f4",
   "metadata": {},
   "outputs": [
    {
     "ename": "SyntaxError",
     "evalue": "invalid syntax (908075714.py, line 1)",
     "output_type": "error",
     "traceback": [
      "\u001b[1;36m  Cell \u001b[1;32mIn[76], line 1\u001b[1;36m\u001b[0m\n\u001b[1;33m    if = 69\u001b[0m\n\u001b[1;37m       ^\u001b[0m\n\u001b[1;31mSyntaxError\u001b[0m\u001b[1;31m:\u001b[0m invalid syntax\n"
     ]
    }
   ],
   "source": [
    "if = 69 # Keywords are not allowed \n",
    "if"
   ]
  },
  {
   "cell_type": "code",
   "execution_count": 78,
   "id": "df805696-45ea-4cd9-bed7-6b9ada43e25e",
   "metadata": {},
   "outputs": [
    {
     "data": {
      "text/plain": [
       "['False',\n",
       " 'None',\n",
       " 'True',\n",
       " 'and',\n",
       " 'as',\n",
       " 'assert',\n",
       " 'async',\n",
       " 'await',\n",
       " 'break',\n",
       " 'class',\n",
       " 'continue',\n",
       " 'def',\n",
       " 'del',\n",
       " 'elif',\n",
       " 'else',\n",
       " 'except',\n",
       " 'finally',\n",
       " 'for',\n",
       " 'from',\n",
       " 'global',\n",
       " 'if',\n",
       " 'import',\n",
       " 'in',\n",
       " 'is',\n",
       " 'lambda',\n",
       " 'nonlocal',\n",
       " 'not',\n",
       " 'or',\n",
       " 'pass',\n",
       " 'raise',\n",
       " 'return',\n",
       " 'try',\n",
       " 'while',\n",
       " 'with',\n",
       " 'yield']"
      ]
     },
     "execution_count": 78,
     "metadata": {},
     "output_type": "execute_result"
    }
   ],
   "source": [
    "import keyword \n",
    "keyword.kwlist"
   ]
  },
  {
   "cell_type": "code",
   "execution_count": 82,
   "id": "8280a551-fad7-49ce-8a82-d7a9deea86cb",
   "metadata": {},
   "outputs": [
    {
     "data": {
      "text/plain": [
       "35"
      ]
     },
     "execution_count": 82,
     "metadata": {},
     "output_type": "execute_result"
    }
   ],
   "source": [
    "len(keyword.kwlist)"
   ]
  },
  {
   "cell_type": "code",
   "execution_count": 84,
   "id": "9a763ef9-48f8-4b7c-a909-041f378ace56",
   "metadata": {},
   "outputs": [],
   "source": [
    "a , b = 10 , 20"
   ]
  },
  {
   "cell_type": "code",
   "execution_count": 90,
   "id": "237fb033-83b5-477b-bd35-f6786a836147",
   "metadata": {},
   "outputs": [
    {
     "name": "stdout",
     "output_type": "stream",
     "text": [
      "30\n",
      "-10\n"
     ]
    }
   ],
   "source": [
    "c = a + b \n",
    "d = a - b\n",
    "print(c)\n",
    "print(d)"
   ]
  },
  {
   "cell_type": "code",
   "execution_count": 92,
   "id": "28060794-1baf-4d0f-af53-a678a92dd5c8",
   "metadata": {},
   "outputs": [
    {
     "name": "stdout",
     "output_type": "stream",
     "text": [
      "30\n",
      "200\n",
      "0.5\n"
     ]
    }
   ],
   "source": [
    "c = a + b\n",
    "d = a * b\n",
    "e = a / b\n",
    "print(c)\n",
    "print(d)\n",
    "print(e)"
   ]
  },
  {
   "cell_type": "code",
   "execution_count": 94,
   "id": "c5decf69-4d89-422f-bd74-2d375782c7e4",
   "metadata": {},
   "outputs": [],
   "source": [
    "s1 = 'hello'\n"
   ]
  },
  {
   "cell_type": "code",
   "execution_count": 98,
   "id": "7152b385-14f2-417b-b5b8-3b855fc28fbf",
   "metadata": {},
   "outputs": [
    {
     "data": {
      "text/plain": [
       "'hello'"
      ]
     },
     "execution_count": 98,
     "metadata": {},
     "output_type": "execute_result"
    }
   ],
   "source": [
    "s1[:]"
   ]
  },
  {
   "cell_type": "code",
   "execution_count": 100,
   "id": "52211721-9206-46bd-a997-72312f0fe380",
   "metadata": {},
   "outputs": [
    {
     "data": {
      "text/plain": [
       "'e'"
      ]
     },
     "execution_count": 100,
     "metadata": {},
     "output_type": "execute_result"
    }
   ],
   "source": [
    "s1[1]"
   ]
  },
  {
   "cell_type": "code",
   "execution_count": 102,
   "id": "8b6b4f53-71fd-4547-aba2-fedea0619f56",
   "metadata": {},
   "outputs": [
    {
     "ename": "IndexError",
     "evalue": "string index out of range",
     "output_type": "error",
     "traceback": [
      "\u001b[1;31m---------------------------------------------------------------------------\u001b[0m",
      "\u001b[1;31mIndexError\u001b[0m                                Traceback (most recent call last)",
      "Cell \u001b[1;32mIn[102], line 1\u001b[0m\n\u001b[1;32m----> 1\u001b[0m s1[\u001b[38;5;241m10\u001b[39m]\n",
      "\u001b[1;31mIndexError\u001b[0m: string index out of range"
     ]
    }
   ],
   "source": [
    "s1[10]"
   ]
  },
  {
   "cell_type": "markdown",
   "id": "89e2fd10-b962-4cf7-8fe2-88a4483e19fa",
   "metadata": {},
   "source": [
    "PYTHON DATA TYPES "
   ]
  },
  {
   "cell_type": "code",
   "execution_count": 1,
   "id": "481732a5-8933-4d7d-bb36-c2902278a7e8",
   "metadata": {},
   "outputs": [
    {
     "data": {
      "text/plain": [
       "int"
      ]
     },
     "execution_count": 1,
     "metadata": {},
     "output_type": "execute_result"
    }
   ],
   "source": [
    "i = 5 \n",
    "type(i)"
   ]
  },
  {
   "cell_type": "code",
   "execution_count": 3,
   "id": "e27e37d8-6f42-4851-8c34-8d85220e7408",
   "metadata": {},
   "outputs": [
    {
     "data": {
      "text/plain": [
       "float"
      ]
     },
     "execution_count": 3,
     "metadata": {},
     "output_type": "execute_result"
    }
   ],
   "source": [
    "f = 20.444654\n",
    "type(f)"
   ]
  },
  {
   "cell_type": "code",
   "execution_count": 5,
   "id": "9d40713b-f38d-4f7f-905b-eee5c1a6cfa0",
   "metadata": {},
   "outputs": [
    {
     "data": {
      "text/plain": [
       "(10+20j)"
      ]
     },
     "execution_count": 5,
     "metadata": {},
     "output_type": "execute_result"
    }
   ],
   "source": [
    "c = 10+20j # imaginary part and real part \n",
    "c"
   ]
  },
  {
   "cell_type": "code",
   "execution_count": 7,
   "id": "7c75817d-001e-4cde-9ca7-f6ea4f4f6495",
   "metadata": {},
   "outputs": [
    {
     "data": {
      "text/plain": [
       "complex"
      ]
     },
     "execution_count": 7,
     "metadata": {},
     "output_type": "execute_result"
    }
   ],
   "source": [
    "type(c)  #only alphabate is allowed"
   ]
  },
  {
   "cell_type": "code",
   "execution_count": 9,
   "id": "791a457e-c74f-4c39-9960-c6667c76354b",
   "metadata": {},
   "outputs": [
    {
     "data": {
      "text/plain": [
       "(20+40j)"
      ]
     },
     "execution_count": 9,
     "metadata": {},
     "output_type": "execute_result"
    }
   ],
   "source": [
    "d = 20+40j\n",
    "d"
   ]
  },
  {
   "cell_type": "code",
   "execution_count": 11,
   "id": "a4204f1b-8946-4780-8913-e391671978b2",
   "metadata": {},
   "outputs": [],
   "source": [
    "e = c + d"
   ]
  },
  {
   "cell_type": "code",
   "execution_count": 13,
   "id": "e22d7494-7e9c-4ff3-8b56-37444bd7e285",
   "metadata": {},
   "outputs": [
    {
     "data": {
      "text/plain": [
       "(30+60j)"
      ]
     },
     "execution_count": 13,
     "metadata": {},
     "output_type": "execute_result"
    }
   ],
   "source": [
    "e"
   ]
  },
  {
   "cell_type": "code",
   "execution_count": 15,
   "id": "ade7bc46-600f-4bab-96e6-e430a2a9eeea",
   "metadata": {},
   "outputs": [
    {
     "data": {
      "text/plain": [
       "10.0"
      ]
     },
     "execution_count": 15,
     "metadata": {},
     "output_type": "execute_result"
    }
   ],
   "source": [
    "c.real"
   ]
  },
  {
   "cell_type": "code",
   "execution_count": 19,
   "id": "859673ad-24e5-43c3-9154-62c44ff5439b",
   "metadata": {},
   "outputs": [
    {
     "data": {
      "text/plain": [
       "20.0"
      ]
     },
     "execution_count": 19,
     "metadata": {},
     "output_type": "execute_result"
    }
   ],
   "source": [
    "c.imag"
   ]
  },
  {
   "cell_type": "code",
   "execution_count": 21,
   "id": "5010b067-947c-4658-99b3-e98ecd56219c",
   "metadata": {},
   "outputs": [
    {
     "data": {
      "text/plain": [
       "True"
      ]
     },
     "execution_count": 21,
     "metadata": {},
     "output_type": "execute_result"
    }
   ],
   "source": [
    "True"
   ]
  },
  {
   "cell_type": "code",
   "execution_count": 23,
   "id": "60302cf7-8e0c-4c13-be0d-9ffc0cf9fc1a",
   "metadata": {},
   "outputs": [
    {
     "data": {
      "text/plain": [
       "False"
      ]
     },
     "execution_count": 23,
     "metadata": {},
     "output_type": "execute_result"
    }
   ],
   "source": [
    "False"
   ]
  },
  {
   "cell_type": "code",
   "execution_count": 25,
   "id": "806b12c8-1c6b-4942-abbc-6f4ddf554bb3",
   "metadata": {},
   "outputs": [
    {
     "data": {
      "text/plain": [
       "1"
      ]
     },
     "execution_count": 25,
     "metadata": {},
     "output_type": "execute_result"
    }
   ],
   "source": [
    "True + False"
   ]
  },
  {
   "cell_type": "code",
   "execution_count": 27,
   "id": "b1ca8d18-d63e-4739-91a5-a68ec9df20d4",
   "metadata": {},
   "outputs": [
    {
     "data": {
      "text/plain": [
       "1"
      ]
     },
     "execution_count": 27,
     "metadata": {},
     "output_type": "execute_result"
    }
   ],
   "source": [
    "True - False"
   ]
  },
  {
   "cell_type": "code",
   "execution_count": 29,
   "id": "52e4cc66-d897-415a-8b26-b7fe780d1c40",
   "metadata": {},
   "outputs": [
    {
     "name": "stdout",
     "output_type": "stream",
     "text": [
      " The brown fox jumps\n",
      "              over the lazy dog\n"
     ]
    }
   ],
   "source": [
    "sentence = ''' The brown fox jumps\n",
    "              over the lazy dog'''\n",
    "print(sentence)"
   ]
  },
  {
   "cell_type": "code",
   "execution_count": 31,
   "id": "11795b9d-23a9-4d72-81d3-aba2df8bef4a",
   "metadata": {},
   "outputs": [
    {
     "data": {
      "text/plain": [
       "float"
      ]
     },
     "execution_count": 31,
     "metadata": {},
     "output_type": "execute_result"
    }
   ],
   "source": [
    "k = 4.4 \n",
    "type(k)"
   ]
  },
  {
   "cell_type": "code",
   "execution_count": null,
   "id": "0d314c57-0aea-41ce-b02c-91327f7f0883",
   "metadata": {},
   "outputs": [],
   "source": []
  }
 ],
 "metadata": {
  "kernelspec": {
   "display_name": "Python [conda env:base] *",
   "language": "python",
   "name": "conda-base-py"
  },
  "language_info": {
   "codemirror_mode": {
    "name": "ipython",
    "version": 3
   },
   "file_extension": ".py",
   "mimetype": "text/x-python",
   "name": "python",
   "nbconvert_exporter": "python",
   "pygments_lexer": "ipython3",
   "version": "3.12.7"
  }
 },
 "nbformat": 4,
 "nbformat_minor": 5
}
