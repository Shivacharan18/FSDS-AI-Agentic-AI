{
 "cells": [
  {
   "cell_type": "markdown",
   "id": "a65c6f50-c282-4745-9b0d-a8d44af16984",
   "metadata": {},
   "source": [
    "Set:- "
   ]
  },
  {
   "cell_type": "code",
   "execution_count": 3,
   "id": "522692f6-e46a-41c2-aeb1-54d5fd39cc55",
   "metadata": {},
   "outputs": [
    {
     "data": {
      "text/plain": [
       "dict"
      ]
     },
     "execution_count": 3,
     "metadata": {},
     "output_type": "execute_result"
    }
   ],
   "source": [
    "s ={}\n",
    "type(s)"
   ]
  },
  {
   "cell_type": "code",
   "execution_count": 5,
   "id": "5f5f900a-60de-4933-8136-0fb1a0510a26",
   "metadata": {},
   "outputs": [
    {
     "data": {
      "text/plain": [
       "set()"
      ]
     },
     "execution_count": 5,
     "metadata": {},
     "output_type": "execute_result"
    }
   ],
   "source": [
    "s = set()\n",
    "s"
   ]
  },
  {
   "cell_type": "code",
   "execution_count": 7,
   "id": "4cebf423-1400-4701-88db-2e06051141c5",
   "metadata": {},
   "outputs": [
    {
     "data": {
      "text/plain": [
       "set"
      ]
     },
     "execution_count": 7,
     "metadata": {},
     "output_type": "execute_result"
    }
   ],
   "source": [
    "type(s)"
   ]
  },
  {
   "cell_type": "code",
   "execution_count": 9,
   "id": "90492fe3-efa1-48cc-b965-6c507a6310fa",
   "metadata": {},
   "outputs": [],
   "source": [
    "s1 = {90,80, 49, 4, 49,434,18,32,} #You can add a elemests into the set And when you execute it by default it will print in ascending order. "
   ]
  },
  {
   "cell_type": "code",
   "execution_count": 11,
   "id": "0234402a-1d18-418b-8cdc-0b6322df0a79",
   "metadata": {},
   "outputs": [
    {
     "data": {
      "text/plain": [
       "{4, 18, 32, 49, 80, 90, 434}"
      ]
     },
     "execution_count": 11,
     "metadata": {},
     "output_type": "execute_result"
    }
   ],
   "source": [
    "s1"
   ]
  },
  {
   "cell_type": "code",
   "execution_count": 13,
   "id": "ad0bbb0f-2c87-4634-ae46-dfb2981e475c",
   "metadata": {},
   "outputs": [],
   "source": [
    "s2 = {\"nit\",'manivarma','senapati sir',18,269,True,44634 ,20+30j}"
   ]
  },
  {
   "cell_type": "code",
   "execution_count": 15,
   "id": "ddfc9bc6-756e-4733-8df0-50376456bb79",
   "metadata": {},
   "outputs": [
    {
     "data": {
      "text/plain": [
       "{(20+30j), 18, 269, 44634, True, 'manivarma', 'nit', 'senapati sir'}"
      ]
     },
     "execution_count": 15,
     "metadata": {},
     "output_type": "execute_result"
    }
   ],
   "source": [
    "s2"
   ]
  },
  {
   "cell_type": "code",
   "execution_count": 17,
   "id": "832ef746-014a-48f7-a8bb-cef39cf09705",
   "metadata": {},
   "outputs": [
    {
     "data": {
      "text/plain": [
       "{4, 18, 32, 49, 80, 90, 434}"
      ]
     },
     "execution_count": 17,
     "metadata": {},
     "output_type": "execute_result"
    }
   ],
   "source": [
    "s1"
   ]
  },
  {
   "cell_type": "code",
   "execution_count": 19,
   "id": "2a9550a5-af48-48e4-a776-4f7ae347767a",
   "metadata": {},
   "outputs": [],
   "source": [
    "s1.add(200)# ADD is used in set to add an element to the set it will according to he ascending order."
   ]
  },
  {
   "cell_type": "code",
   "execution_count": 21,
   "id": "a70a31fb-78ea-4095-871a-a4ee8d828cfa",
   "metadata": {},
   "outputs": [
    {
     "data": {
      "text/plain": [
       "{4, 18, 32, 49, 80, 90, 200, 434}"
      ]
     },
     "execution_count": 21,
     "metadata": {},
     "output_type": "execute_result"
    }
   ],
   "source": [
    "s1"
   ]
  },
  {
   "cell_type": "code",
   "execution_count": 23,
   "id": "45cb69dd-792e-458d-b57a-a12d18fd0d05",
   "metadata": {},
   "outputs": [],
   "source": [
    "s3 = s1.copy()"
   ]
  },
  {
   "cell_type": "code",
   "execution_count": 25,
   "id": "4c5e9d16-4025-46cf-94f8-98bad3ba0dc0",
   "metadata": {},
   "outputs": [
    {
     "data": {
      "text/plain": [
       "{4, 18, 32, 49, 80, 90, 200, 434}"
      ]
     },
     "execution_count": 25,
     "metadata": {},
     "output_type": "execute_result"
    }
   ],
   "source": [
    "s3"
   ]
  },
  {
   "cell_type": "code",
   "execution_count": 27,
   "id": "e5dcdc22-b34e-49e6-b622-0cf8ef01e0d3",
   "metadata": {},
   "outputs": [
    {
     "data": {
      "text/plain": [
       "True"
      ]
     },
     "execution_count": 27,
     "metadata": {},
     "output_type": "execute_result"
    }
   ],
   "source": [
    "s1 == s3"
   ]
  },
  {
   "cell_type": "code",
   "execution_count": 29,
   "id": "3dcd4e05-5271-4d46-a364-a1e18ef5e108",
   "metadata": {},
   "outputs": [
    {
     "data": {
      "text/plain": [
       "8"
      ]
     },
     "execution_count": 29,
     "metadata": {},
     "output_type": "execute_result"
    }
   ],
   "source": [
    "len(s3)"
   ]
  },
  {
   "cell_type": "code",
   "execution_count": 31,
   "id": "f5ffe0db-0e8e-49c8-99ad-f21ae1f8bba3",
   "metadata": {},
   "outputs": [],
   "source": [
    "s3.clear()"
   ]
  },
  {
   "cell_type": "code",
   "execution_count": 33,
   "id": "df9e3244-7248-49f9-a0f1-d4957550b1fe",
   "metadata": {},
   "outputs": [
    {
     "data": {
      "text/plain": [
       "set()"
      ]
     },
     "execution_count": 33,
     "metadata": {},
     "output_type": "execute_result"
    }
   ],
   "source": [
    "s3"
   ]
  },
  {
   "cell_type": "code",
   "execution_count": 35,
   "id": "ec0754ea-4302-4482-b42d-f378b818ac15",
   "metadata": {},
   "outputs": [
    {
     "data": {
      "text/plain": [
       "0"
      ]
     },
     "execution_count": 35,
     "metadata": {},
     "output_type": "execute_result"
    }
   ],
   "source": [
    "len(s3)"
   ]
  },
  {
   "cell_type": "code",
   "execution_count": 37,
   "id": "75128db6-63f3-4b9b-ad13-1f8732f2a891",
   "metadata": {},
   "outputs": [
    {
     "data": {
      "text/plain": [
       "{4, 18, 32, 49, 80, 90, 200, 434}"
      ]
     },
     "execution_count": 37,
     "metadata": {},
     "output_type": "execute_result"
    }
   ],
   "source": [
    "s1"
   ]
  },
  {
   "cell_type": "code",
   "execution_count": 39,
   "id": "5e8b4059-3b88-4e8d-95d6-895956750f1b",
   "metadata": {},
   "outputs": [
    {
     "ename": "TypeError",
     "evalue": "'set' object is not subscriptable",
     "output_type": "error",
     "traceback": [
      "\u001b[1;31m---------------------------------------------------------------------------\u001b[0m",
      "\u001b[1;31mTypeError\u001b[0m                                 Traceback (most recent call last)",
      "Cell \u001b[1;32mIn[39], line 1\u001b[0m\n\u001b[1;32m----> 1\u001b[0m s1[:]\n",
      "\u001b[1;31mTypeError\u001b[0m: 'set' object is not subscriptable"
     ]
    }
   ],
   "source": [
    "s1[:] #slicing is not allowed in set"
   ]
  },
  {
   "cell_type": "code",
   "execution_count": null,
   "id": "080351bc-05f1-49b1-8889-3444b83deb6e",
   "metadata": {},
   "outputs": [],
   "source": [
    "s1.pop() # it will randomliy remove any  one element from the set"
   ]
  },
  {
   "cell_type": "code",
   "execution_count": 42,
   "id": "0a4c6ff2-9219-40cc-814e-87386a55515e",
   "metadata": {},
   "outputs": [
    {
     "data": {
      "text/plain": [
       "{4, 18, 32, 49, 80, 90, 200, 434}"
      ]
     },
     "execution_count": 42,
     "metadata": {},
     "output_type": "execute_result"
    }
   ],
   "source": [
    "s1"
   ]
  },
  {
   "cell_type": "code",
   "execution_count": 44,
   "id": "ba052e70-7df6-4b7c-afc9-7d235a3cd694",
   "metadata": {},
   "outputs": [
    {
     "ename": "TypeError",
     "evalue": "set.pop() takes no arguments (1 given)",
     "output_type": "error",
     "traceback": [
      "\u001b[1;31m---------------------------------------------------------------------------\u001b[0m",
      "\u001b[1;31mTypeError\u001b[0m                                 Traceback (most recent call last)",
      "Cell \u001b[1;32mIn[44], line 1\u001b[0m\n\u001b[1;32m----> 1\u001b[0m s1\u001b[38;5;241m.\u001b[39mpop(\u001b[38;5;241m1\u001b[39m)\n",
      "\u001b[1;31mTypeError\u001b[0m: set.pop() takes no arguments (1 given)"
     ]
    }
   ],
   "source": [
    "s1.pop(1) #there is no index function in the set so no indexing is allowed"
   ]
  },
  {
   "cell_type": "code",
   "execution_count": 46,
   "id": "1da897e4-96f2-437f-9f64-e2d08d37c08e",
   "metadata": {},
   "outputs": [
    {
     "data": {
      "text/plain": [
       "{4, 18, 32, 49, 80, 90, 200, 434}"
      ]
     },
     "execution_count": 46,
     "metadata": {},
     "output_type": "execute_result"
    }
   ],
   "source": [
    "s1"
   ]
  },
  {
   "cell_type": "code",
   "execution_count": 48,
   "id": "e9a4fd87-80e2-4069-b1bf-06025029b3f6",
   "metadata": {},
   "outputs": [
    {
     "ename": "KeyError",
     "evalue": "1000",
     "output_type": "error",
     "traceback": [
      "\u001b[1;31m---------------------------------------------------------------------------\u001b[0m",
      "\u001b[1;31mKeyError\u001b[0m                                  Traceback (most recent call last)",
      "Cell \u001b[1;32mIn[48], line 1\u001b[0m\n\u001b[1;32m----> 1\u001b[0m s1\u001b[38;5;241m.\u001b[39mremove(\u001b[38;5;241m1000\u001b[39m)\n",
      "\u001b[1;31mKeyError\u001b[0m: 1000"
     ]
    }
   ],
   "source": [
    "s1.remove(1000)"
   ]
  },
  {
   "cell_type": "code",
   "execution_count": 50,
   "id": "e4f37cb5-468c-4aa7-9733-7f95df3547b1",
   "metadata": {},
   "outputs": [],
   "source": [
    "s1.remove(49) #it removes an element from the set it must be a member.IF the element is not present in the set it gives an error."
   ]
  },
  {
   "cell_type": "code",
   "execution_count": 52,
   "id": "72c26c87-70d4-415d-9733-8a5d373adb67",
   "metadata": {},
   "outputs": [
    {
     "data": {
      "text/plain": [
       "{4, 18, 32, 80, 90, 200, 434}"
      ]
     },
     "execution_count": 52,
     "metadata": {},
     "output_type": "execute_result"
    }
   ],
   "source": [
    "s1"
   ]
  },
  {
   "cell_type": "code",
   "execution_count": 54,
   "id": "59084561-c358-419e-bbfb-cfb24280f643",
   "metadata": {},
   "outputs": [],
   "source": [
    "s1.discard(1000)"
   ]
  },
  {
   "cell_type": "code",
   "execution_count": 56,
   "id": "501f0944-b66f-4a32-b1b2-389457b0addd",
   "metadata": {},
   "outputs": [
    {
     "data": {
      "text/plain": [
       "{4, 18, 32, 80, 90, 200, 434}"
      ]
     },
     "execution_count": 56,
     "metadata": {},
     "output_type": "execute_result"
    }
   ],
   "source": [
    "s1"
   ]
  },
  {
   "cell_type": "code",
   "execution_count": 58,
   "id": "030df9b4-4422-4edb-9ca3-6d34660d6258",
   "metadata": {},
   "outputs": [
    {
     "data": {
      "text/plain": [
       "{(20+30j), 18, 269, 44634, True, 'manivarma', 'nit', 'senapati sir'}"
      ]
     },
     "execution_count": 58,
     "metadata": {},
     "output_type": "execute_result"
    }
   ],
   "source": [
    "s2"
   ]
  },
  {
   "cell_type": "code",
   "execution_count": 60,
   "id": "9576c505-7ff8-4a6d-a9be-25bfe3cd32c7",
   "metadata": {},
   "outputs": [],
   "source": [
    "s2.remove(True)"
   ]
  },
  {
   "cell_type": "code",
   "execution_count": 62,
   "id": "51375567-8181-4c1f-9360-a579e674ee67",
   "metadata": {},
   "outputs": [
    {
     "data": {
      "text/plain": [
       "{(20+30j), 18, 269, 44634, 'manivarma', 'nit', 'senapati sir'}"
      ]
     },
     "execution_count": 62,
     "metadata": {},
     "output_type": "execute_result"
    }
   ],
   "source": [
    "s2"
   ]
  },
  {
   "cell_type": "code",
   "execution_count": 64,
   "id": "591a5621-6613-481a-80ef-03b65595f7c2",
   "metadata": {},
   "outputs": [],
   "source": [
    "s2.discard(18)#Remove an element from a set if it is a member. Unlike set.remove(), the discard() method does not raise an exception when an element is missing from the set"
   ]
  },
  {
   "cell_type": "code",
   "execution_count": 66,
   "id": "53e9c7aa-38d8-4206-afa2-0785d4dd1395",
   "metadata": {},
   "outputs": [
    {
     "data": {
      "text/plain": [
       "{(20+30j), 269, 44634, 'manivarma', 'nit', 'senapati sir'}"
      ]
     },
     "execution_count": 66,
     "metadata": {},
     "output_type": "execute_result"
    }
   ],
   "source": [
    "s2"
   ]
  },
  {
   "cell_type": "code",
   "execution_count": 68,
   "id": "68431813-505d-43cc-8a35-bfab1a7ef1fe",
   "metadata": {},
   "outputs": [],
   "source": [
    "#basic set functions are completed"
   ]
  },
  {
   "cell_type": "code",
   "execution_count": 70,
   "id": "22b30b8a-bc9e-4a5d-b727-a32c4921c5c3",
   "metadata": {},
   "outputs": [
    {
     "name": "stdout",
     "output_type": "stream",
     "text": [
      "{32, 80, 434, 4, 18, 200, 90}\n",
      "{32, 80, 434, 4, 18, 200, 90}\n",
      "{32, 80, 434, 4, 18, 200, 90}\n",
      "{32, 80, 434, 4, 18, 200, 90}\n",
      "{32, 80, 434, 4, 18, 200, 90}\n",
      "{32, 80, 434, 4, 18, 200, 90}\n",
      "{32, 80, 434, 4, 18, 200, 90}\n"
     ]
    }
   ],
   "source": [
    "for i in s1:\n",
    "    print(s1)"
   ]
  },
  {
   "cell_type": "code",
   "execution_count": 72,
   "id": "d67a6b9b-9f1c-4e05-ab3a-7deeeda405f1",
   "metadata": {},
   "outputs": [
    {
     "name": "stdout",
     "output_type": "stream",
     "text": [
      "32\n",
      "80\n",
      "434\n",
      "4\n",
      "18\n",
      "200\n",
      "90\n"
     ]
    }
   ],
   "source": [
    "for i in s1:\n",
    "    print(i)"
   ]
  },
  {
   "cell_type": "code",
   "execution_count": 74,
   "id": "520d48a8-9d1f-4697-879c-0ac78c742445",
   "metadata": {},
   "outputs": [
    {
     "name": "stdout",
     "output_type": "stream",
     "text": [
      "(0, 32)\n",
      "(1, 80)\n",
      "(2, 434)\n",
      "(3, 4)\n",
      "(4, 18)\n",
      "(5, 200)\n",
      "(6, 90)\n"
     ]
    }
   ],
   "source": [
    "for i in enumerate(s1):\n",
    "    print(i)"
   ]
  },
  {
   "cell_type": "code",
   "execution_count": 76,
   "id": "211797ce-b292-43a5-90f9-5b76d8bf2bfe",
   "metadata": {},
   "outputs": [
    {
     "name": "stdout",
     "output_type": "stream",
     "text": [
      "{32, 80, 434, 4, 18, 200, 90}\n",
      "{32, 80, 434, 4, 18, 200, 90}\n",
      "{32, 80, 434, 4, 18, 200, 90}\n",
      "{32, 80, 434, 4, 18, 200, 90}\n",
      "{32, 80, 434, 4, 18, 200, 90}\n",
      "{32, 80, 434, 4, 18, 200, 90}\n",
      "{32, 80, 434, 4, 18, 200, 90}\n"
     ]
    }
   ],
   "source": [
    "for i in enumerate(s1):\n",
    "    print(s1)"
   ]
  },
  {
   "cell_type": "code",
   "execution_count": 78,
   "id": "4b5c2763-3f23-4dbc-be68-d46cd085a488",
   "metadata": {},
   "outputs": [
    {
     "data": {
      "text/plain": [
       "{4, 18, 32, 80, 90, 200, 434}"
      ]
     },
     "execution_count": 78,
     "metadata": {},
     "output_type": "execute_result"
    }
   ],
   "source": [
    "s1"
   ]
  },
  {
   "cell_type": "code",
   "execution_count": 80,
   "id": "b469898c-8a1c-4467-92c9-0c7505114bb4",
   "metadata": {},
   "outputs": [],
   "source": [
    "s1.update([1,2,30,450,2343456755])"
   ]
  },
  {
   "cell_type": "code",
   "execution_count": 82,
   "id": "b4b98135-65d7-49d2-9b1e-246e2fa242a1",
   "metadata": {},
   "outputs": [
    {
     "data": {
      "text/plain": [
       "{1, 2, 4, 18, 30, 32, 80, 90, 200, 434, 450, 2343456755}"
      ]
     },
     "execution_count": 82,
     "metadata": {},
     "output_type": "execute_result"
    }
   ],
   "source": [
    "s1"
   ]
  },
  {
   "cell_type": "code",
   "execution_count": 84,
   "id": "2e4b6673-ad28-416d-ab65-e8472d1c973b",
   "metadata": {},
   "outputs": [],
   "source": [
    "s1.update([3])"
   ]
  },
  {
   "cell_type": "code",
   "execution_count": 88,
   "id": "d3fd9bdb-707b-4a8a-919c-7cbd6d70881e",
   "metadata": {},
   "outputs": [
    {
     "data": {
      "text/plain": [
       "{1, 2, 3, 4, 18, 30, 32, 80, 90, 200, 434, 450, 2343456755}"
      ]
     },
     "execution_count": 88,
     "metadata": {},
     "output_type": "execute_result"
    }
   ],
   "source": [
    "s1"
   ]
  },
  {
   "cell_type": "code",
   "execution_count": 90,
   "id": "07a8f076-f79d-4d52-aaa5-72f084a9fa5a",
   "metadata": {},
   "outputs": [],
   "source": [
    "s1.update([\"king\",45,])"
   ]
  },
  {
   "cell_type": "code",
   "execution_count": 92,
   "id": "d091f4d2-253e-4ae9-ad44-b731cc66a043",
   "metadata": {},
   "outputs": [
    {
     "data": {
      "text/plain": [
       "{1, 18, 2, 200, 2343456755, 3, 30, 32, 4, 434, 45, 450, 80, 90, 'king'}"
      ]
     },
     "execution_count": 92,
     "metadata": {},
     "output_type": "execute_result"
    }
   ],
   "source": [
    "s1"
   ]
  },
  {
   "cell_type": "markdown",
   "id": "1da4f48e-0e93-49fc-acae-bbfdc8c4fb18",
   "metadata": {},
   "source": [
    "# 23 may Set operations"
   ]
  },
  {
   "cell_type": "code",
   "execution_count": 2,
   "id": "bd00c467-a015-4fb1-a810-ff9a9961d2fa",
   "metadata": {},
   "outputs": [],
   "source": [
    "A = {1,2,3,4,5}\n",
    "B = {4,5,6,7,8}\n",
    "C = {8,9,10}"
   ]
  },
  {
   "cell_type": "code",
   "execution_count": 4,
   "id": "d9f486da-7d22-4f27-90d5-87a95ab28dbf",
   "metadata": {},
   "outputs": [
    {
     "data": {
      "text/plain": [
       "{1, 2, 3, 4, 5, 6, 7, 8}"
      ]
     },
     "execution_count": 4,
     "metadata": {},
     "output_type": "execute_result"
    }
   ],
   "source": [
    "A | B # Union"
   ]
  },
  {
   "cell_type": "code",
   "execution_count": 8,
   "id": "bfb8b961-9b2c-4686-8ffd-48432338cbac",
   "metadata": {},
   "outputs": [
    {
     "data": {
      "text/plain": [
       "{4, 5, 6, 7, 8, 9, 10}"
      ]
     },
     "execution_count": 8,
     "metadata": {},
     "output_type": "execute_result"
    }
   ],
   "source": [
    "B.union(C)"
   ]
  },
  {
   "cell_type": "code",
   "execution_count": 10,
   "id": "f7de660f-1648-4f1a-8cd3-a51faaa72ff7",
   "metadata": {},
   "outputs": [
    {
     "data": {
      "text/plain": [
       "{1, 2, 3, 4, 5, 6, 7, 8, 9, 10}"
      ]
     },
     "execution_count": 10,
     "metadata": {},
     "output_type": "execute_result"
    }
   ],
   "source": [
    "A|B|C"
   ]
  },
  {
   "cell_type": "code",
   "execution_count": 12,
   "id": "82c30b50-5884-4ae6-95c5-31e2815b7084",
   "metadata": {},
   "outputs": [
    {
     "data": {
      "text/plain": [
       "{1, 2, 3, 4, 5, 6, 7, 8, 9, 10}"
      ]
     },
     "execution_count": 12,
     "metadata": {},
     "output_type": "execute_result"
    }
   ],
   "source": [
    "A.union(C,B)"
   ]
  },
  {
   "cell_type": "code",
   "execution_count": 14,
   "id": "6437c12a-ceb2-4994-a4f4-7fe4d1e74a26",
   "metadata": {},
   "outputs": [
    {
     "data": {
      "text/plain": [
       "{8, 9, 10}"
      ]
     },
     "execution_count": 14,
     "metadata": {},
     "output_type": "execute_result"
    }
   ],
   "source": [
    "C"
   ]
  },
  {
   "cell_type": "code",
   "execution_count": 16,
   "id": "112fbf3c-4142-4a91-badb-c3736b303551",
   "metadata": {},
   "outputs": [],
   "source": [
    "C.update(B)"
   ]
  },
  {
   "cell_type": "code",
   "execution_count": 18,
   "id": "4605c905-6f79-4081-a2fc-b2bd69c9b88f",
   "metadata": {},
   "outputs": [
    {
     "data": {
      "text/plain": [
       "{4, 5, 6, 7, 8, 9, 10}"
      ]
     },
     "execution_count": 18,
     "metadata": {},
     "output_type": "execute_result"
    }
   ],
   "source": [
    "C"
   ]
  },
  {
   "cell_type": "code",
   "execution_count": 20,
   "id": "e8d543d3-fb73-463a-b735-98e2a969b5ac",
   "metadata": {},
   "outputs": [],
   "source": [
    "C.update(A,B)"
   ]
  },
  {
   "cell_type": "code",
   "execution_count": 22,
   "id": "e891d5bd-2486-4b8e-8639-1c03607a4054",
   "metadata": {},
   "outputs": [
    {
     "data": {
      "text/plain": [
       "{1, 2, 3, 4, 5, 6, 7, 8, 9, 10}"
      ]
     },
     "execution_count": 22,
     "metadata": {},
     "output_type": "execute_result"
    }
   ],
   "source": [
    "C"
   ]
  },
  {
   "cell_type": "code",
   "execution_count": 28,
   "id": "469c07da-628e-4ad0-9dfe-55cc1c839c17",
   "metadata": {},
   "outputs": [
    {
     "name": "stdout",
     "output_type": "stream",
     "text": [
      "{1, 2, 3, 4, 5}\n",
      "{4, 5, 6, 7, 8}\n",
      "{1, 2, 3, 4, 5, 6, 7, 8, 9, 10}\n"
     ]
    }
   ],
   "source": [
    "print(A)\n",
    "print(B)\n",
    "print(C)"
   ]
  },
  {
   "cell_type": "code",
   "execution_count": 34,
   "id": "5cc0e316-f713-419d-8c0b-88475168e6bc",
   "metadata": {},
   "outputs": [
    {
     "data": {
      "text/plain": [
       "{4, 5}"
      ]
     },
     "execution_count": 34,
     "metadata": {},
     "output_type": "execute_result"
    }
   ],
   "source": [
    "A & B #intersection"
   ]
  },
  {
   "cell_type": "code",
   "execution_count": 36,
   "id": "8639b78f-b047-4a06-91d4-39d28d171981",
   "metadata": {},
   "outputs": [
    {
     "data": {
      "text/plain": [
       "{4, 5, 6, 7, 8}"
      ]
     },
     "execution_count": 36,
     "metadata": {},
     "output_type": "execute_result"
    }
   ],
   "source": [
    "B.intersection(C)"
   ]
  },
  {
   "cell_type": "code",
   "execution_count": 39,
   "id": "2a21a2c3-817d-4c65-8910-7abbbc6d4500",
   "metadata": {},
   "outputs": [
    {
     "data": {
      "text/plain": [
       "{4, 5}"
      ]
     },
     "execution_count": 39,
     "metadata": {},
     "output_type": "execute_result"
    }
   ],
   "source": [
    "A & B & C"
   ]
  },
  {
   "cell_type": "code",
   "execution_count": 41,
   "id": "5c15505f-0e30-454f-9e1f-4b07042939fc",
   "metadata": {},
   "outputs": [
    {
     "data": {
      "text/plain": [
       "{1, 2, 3}"
      ]
     },
     "execution_count": 41,
     "metadata": {},
     "output_type": "execute_result"
    }
   ],
   "source": [
    "A - B  #Difference"
   ]
  },
  {
   "cell_type": "code",
   "execution_count": 43,
   "id": "5d6cce8f-b0a3-48b5-8ef4-0591beb10f14",
   "metadata": {},
   "outputs": [
    {
     "data": {
      "text/plain": [
       "set()"
      ]
     },
     "execution_count": 43,
     "metadata": {},
     "output_type": "execute_result"
    }
   ],
   "source": [
    "B.difference(C)"
   ]
  },
  {
   "cell_type": "code",
   "execution_count": 47,
   "id": "691e0578-6d02-4249-80ed-539bf1c86e9d",
   "metadata": {},
   "outputs": [
    {
     "data": {
      "text/plain": [
       "{1, 2, 3, 9, 10}"
      ]
     },
     "execution_count": 47,
     "metadata": {},
     "output_type": "execute_result"
    }
   ],
   "source": [
    "C.difference(B)"
   ]
  },
  {
   "cell_type": "code",
   "execution_count": 49,
   "id": "c38372c6-4802-43ce-b0e0-09101dee4f48",
   "metadata": {},
   "outputs": [
    {
     "name": "stdout",
     "output_type": "stream",
     "text": [
      "{1, 2, 3, 4, 5}\n",
      "{4, 5, 6, 7, 8}\n",
      "{1, 2, 3, 4, 5, 6, 7, 8, 9, 10}\n"
     ]
    }
   ],
   "source": [
    "print(A)\n",
    "print(B)\n",
    "print(C)"
   ]
  },
  {
   "cell_type": "code",
   "execution_count": 51,
   "id": "a4e927cb-29d1-4fb4-a3f3-55307cc96e40",
   "metadata": {},
   "outputs": [
    {
     "data": {
      "text/plain": [
       "{1, 2, 3}"
      ]
     },
     "execution_count": 51,
     "metadata": {},
     "output_type": "execute_result"
    }
   ],
   "source": [
    "A.difference(B)"
   ]
  },
  {
   "cell_type": "code",
   "execution_count": 53,
   "id": "9da8c0d2-10d6-4b40-bca0-8cc248f226af",
   "metadata": {},
   "outputs": [
    {
     "data": {
      "text/plain": [
       "{1, 2, 3, 6, 7, 8}"
      ]
     },
     "execution_count": 53,
     "metadata": {},
     "output_type": "execute_result"
    }
   ],
   "source": [
    "A.symmetric_difference(B)"
   ]
  },
  {
   "cell_type": "code",
   "execution_count": 57,
   "id": "05293a4d-5729-413b-9e93-218c73d35644",
   "metadata": {},
   "outputs": [
    {
     "data": {
      "text/plain": [
       "{1, 2, 3, 9, 10}"
      ]
     },
     "execution_count": 57,
     "metadata": {},
     "output_type": "execute_result"
    }
   ],
   "source": [
    "B.symmetric_difference(C)"
   ]
  },
  {
   "cell_type": "markdown",
   "id": "273683cf-b0fd-41b1-bd4a-01b446da7ad4",
   "metadata": {},
   "source": [
    "# Super set \n",
    "# sub set \n",
    "# disjoint"
   ]
  },
  {
   "cell_type": "code",
   "execution_count": 77,
   "id": "31ab612f-f1ed-4dec-a6c8-db6be9589efa",
   "metadata": {},
   "outputs": [],
   "source": [
    "a9 = {1,2,3,4,5,6,7,8,9}\n",
    "b9 = {3,4,5,6,7,8}\n",
    "c9 = {10,20,30,40}"
   ]
  },
  {
   "cell_type": "code",
   "execution_count": 79,
   "id": "b400747d-396b-4aa6-84cc-44e758779c84",
   "metadata": {},
   "outputs": [
    {
     "data": {
      "text/plain": [
       "True"
      ]
     },
     "execution_count": 79,
     "metadata": {},
     "output_type": "execute_result"
    }
   ],
   "source": [
    "b9.issubset(a9)"
   ]
  },
  {
   "cell_type": "code",
   "execution_count": 83,
   "id": "ad993515-6edb-4eab-8478-5ce3409735ef",
   "metadata": {},
   "outputs": [
    {
     "data": {
      "text/plain": [
       "True"
      ]
     },
     "execution_count": 83,
     "metadata": {},
     "output_type": "execute_result"
    }
   ],
   "source": [
    "a9.issuperset(b9)"
   ]
  },
  {
   "cell_type": "code",
   "execution_count": 85,
   "id": "54e177b3-4add-4ea6-a310-7332b5227fe6",
   "metadata": {},
   "outputs": [
    {
     "data": {
      "text/plain": [
       "False"
      ]
     },
     "execution_count": 85,
     "metadata": {},
     "output_type": "execute_result"
    }
   ],
   "source": [
    "c9.issubset(a9)"
   ]
  },
  {
   "cell_type": "code",
   "execution_count": 97,
   "id": "b3075b38-489a-4193-99bd-c25014acec8a",
   "metadata": {},
   "outputs": [
    {
     "data": {
      "text/plain": [
       "True"
      ]
     },
     "execution_count": 97,
     "metadata": {},
     "output_type": "execute_result"
    }
   ],
   "source": [
    "c9.isdisjoint(b9)"
   ]
  },
  {
   "cell_type": "code",
   "execution_count": 99,
   "id": "82cf6b66-6ea3-44fd-97ff-48a9d14d06db",
   "metadata": {},
   "outputs": [
    {
     "data": {
      "text/plain": [
       "True"
      ]
     },
     "execution_count": 99,
     "metadata": {},
     "output_type": "execute_result"
    }
   ],
   "source": [
    "c9.isdisjoint(a9)"
   ]
  },
  {
   "cell_type": "markdown",
   "id": "4a9ab573-0fe3-450a-bc66-0abf1e7d3253",
   "metadata": {},
   "source": [
    "# Set is mutable / immutable it act as both"
   ]
  },
  {
   "cell_type": "code",
   "execution_count": 3,
   "id": "eccd1db8-352b-4d45-98f3-2709d58c8c4a",
   "metadata": {},
   "outputs": [],
   "source": [
    "set = {1,45,18,333,17,10}"
   ]
  },
  {
   "cell_type": "code",
   "execution_count": 5,
   "id": "fa0dc008-f88f-43c0-b22d-41c898beffc6",
   "metadata": {},
   "outputs": [
    {
     "data": {
      "text/plain": [
       "{1, 10, 17, 18, 45, 333}"
      ]
     },
     "execution_count": 5,
     "metadata": {},
     "output_type": "execute_result"
    }
   ],
   "source": [
    "set"
   ]
  },
  {
   "cell_type": "code",
   "execution_count": 7,
   "id": "f258b5b1-8518-405a-8ea7-c770e51e7b27",
   "metadata": {},
   "outputs": [],
   "source": [
    "set.add(3)"
   ]
  },
  {
   "cell_type": "code",
   "execution_count": 9,
   "id": "90af8568-2d54-49c6-b5e5-40bd5f145d0d",
   "metadata": {},
   "outputs": [
    {
     "data": {
      "text/plain": [
       "{1, 3, 10, 17, 18, 45, 333}"
      ]
     },
     "execution_count": 9,
     "metadata": {},
     "output_type": "execute_result"
    }
   ],
   "source": [
    "set"
   ]
  },
  {
   "cell_type": "code",
   "execution_count": 15,
   "id": "04bf6cb1-f8b1-42a6-9efd-3857f3d94b5e",
   "metadata": {},
   "outputs": [
    {
     "ename": "TypeError",
     "evalue": "'set' object does not support item assignment",
     "output_type": "error",
     "traceback": [
      "\u001b[1;31m---------------------------------------------------------------------------\u001b[0m",
      "\u001b[1;31mTypeError\u001b[0m                                 Traceback (most recent call last)",
      "Cell \u001b[1;32mIn[15], line 1\u001b[0m\n\u001b[1;32m----> 1\u001b[0m \u001b[38;5;28mset\u001b[39m[\u001b[38;5;241m0\u001b[39m] \u001b[38;5;241m=\u001b[39m \u001b[38;5;241m10\u001b[39m\n",
      "\u001b[1;31mTypeError\u001b[0m: 'set' object does not support item assignment"
     ]
    }
   ],
   "source": [
    "set[0] = 10 #So,the set it self is mutable ,but its elements must be immuatable"
   ]
  },
  {
   "cell_type": "code",
   "execution_count": null,
   "id": "ca9e5a1a-4a2b-414b-a03a-ed72a801b133",
   "metadata": {},
   "outputs": [],
   "source": []
  }
 ],
 "metadata": {
  "kernelspec": {
   "display_name": "Python [conda env:base] *",
   "language": "python",
   "name": "conda-base-py"
  },
  "language_info": {
   "codemirror_mode": {
    "name": "ipython",
    "version": 3
   },
   "file_extension": ".py",
   "mimetype": "text/x-python",
   "name": "python",
   "nbconvert_exporter": "python",
   "pygments_lexer": "ipython3",
   "version": "3.12.7"
  }
 },
 "nbformat": 4,
 "nbformat_minor": 5
}
