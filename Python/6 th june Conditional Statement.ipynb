{
 "cells": [
  {
   "cell_type": "markdown",
   "id": "948d6351-4678-4bd8-ae75-546b13d13051",
   "metadata": {},
   "source": [
    "- if\n",
    "- if else\n",
    "- if elif else\n",
    "- nested if"
   ]
  },
  {
   "cell_type": "code",
   "execution_count": 4,
   "id": "21488067-f357-49cb-8a94-57753977762a",
   "metadata": {},
   "outputs": [
    {
     "name": "stdout",
     "output_type": "stream",
     "text": [
      " data science\n"
     ]
    }
   ],
   "source": [
    "if True: # indentation is alwayas 4 spaces\n",
    "    print(' data science')"
   ]
  },
  {
   "cell_type": "code",
   "execution_count": 11,
   "id": "b84be370-f631-4678-8f76-819252bbfe05",
   "metadata": {},
   "outputs": [
    {
     "name": "stdout",
     "output_type": "stream",
     "text": [
      "bye for now\n"
     ]
    }
   ],
   "source": [
    "if False: \n",
    "    print('Data science')\n",
    "print(\"bye for now\")    "
   ]
  },
  {
   "cell_type": "code",
   "execution_count": 15,
   "id": "2ea041c7-5df1-4c9c-9ccd-22d99f16097d",
   "metadata": {},
   "outputs": [
    {
     "name": "stdout",
     "output_type": "stream",
     "text": [
      "Data science\n",
      "bye for now\n"
     ]
    }
   ],
   "source": [
    "if True:\n",
    "    print('Data science')\n",
    "    print('bye for now')    "
   ]
  },
  {
   "cell_type": "code",
   "execution_count": 17,
   "id": "f17b0710-c193-4814-802d-423c2700e8c2",
   "metadata": {},
   "outputs": [
    {
     "name": "stdout",
     "output_type": "stream",
     "text": [
      "Even number\n"
     ]
    }
   ],
   "source": [
    "# code 1 number is even or odd\n",
    "x = 4\n",
    "r = x % 2\n",
    "\n",
    "if r == 0:\n",
    "    print('Even number')"
   ]
  },
  {
   "cell_type": "code",
   "execution_count": 21,
   "id": "d768328b-0ab8-40d2-9600-bf8974771ce4",
   "metadata": {},
   "outputs": [],
   "source": [
    "# code 1 number is even or odd\n",
    "x = 5\n",
    "r = x % 2\n",
    "\n",
    "if r == 0:\n",
    "    print('Even number') # no output beacuse no other possible condition "
   ]
  },
  {
   "cell_type": "code",
   "execution_count": 25,
   "id": "bc0aa0f0-b30b-4117-ab02-b6899262e3d8",
   "metadata": {},
   "outputs": [
    {
     "name": "stdout",
     "output_type": "stream",
     "text": [
      "odd nunber\n"
     ]
    }
   ],
   "source": [
    "# code 1 number is even or odd\n",
    "x = 5\n",
    "r = x % 2\n",
    "\n",
    "if r == 0: # here the condition is not satisfied by default it will print odd number\n",
    "    print('Even number')\n",
    "print('odd nunber') # but when it is even nunber it will print both even and odd number   "
   ]
  },
  {
   "cell_type": "code",
   "execution_count": 27,
   "id": "ebf8416f-cb67-4fac-bf8b-1a6540487d0b",
   "metadata": {},
   "outputs": [
    {
     "name": "stdout",
     "output_type": "stream",
     "text": [
      "Even number\n",
      "odd number\n"
     ]
    }
   ],
   "source": [
    "x = 8\n",
    "r = x % 2\n",
    "\n",
    "if r == 0:\n",
    "    print('Even number')\n",
    "print('odd number')\n"
   ]
  },
  {
   "cell_type": "code",
   "execution_count": 29,
   "id": "1fdb6c04-691b-443b-a638-d227aa913e67",
   "metadata": {},
   "outputs": [
    {
     "name": "stdout",
     "output_type": "stream",
     "text": [
      "Odd number\n"
     ]
    }
   ],
   "source": [
    "x = 13 \n",
    "r = x % 2 \n",
    "\n",
    "if r == 0:\n",
    "    print('Even number')\n",
    "if r == 1:\n",
    "    print('Odd number')"
   ]
  },
  {
   "cell_type": "code",
   "execution_count": 36,
   "id": "efb5beba-e373-489f-a0db-464bbe5bf3b6",
   "metadata": {},
   "outputs": [
    {
     "name": "stdout",
     "output_type": "stream",
     "text": [
      "odd number\n"
     ]
    }
   ],
   "source": [
    "x = 19\n",
    "r = x % 2 \n",
    "\n",
    "if r == 0:\n",
    "    print('Even number')\n",
    "if r != 0:\n",
    "     print('odd number')"
   ]
  },
  {
   "cell_type": "code",
   "execution_count": 40,
   "id": "a6472142-2c04-49bb-9452-02f56b790c3c",
   "metadata": {},
   "outputs": [
    {
     "name": "stdout",
     "output_type": "stream",
     "text": [
      "Odd Number\n"
     ]
    }
   ],
   "source": [
    "# nested if \n",
    "x = 3\n",
    "r = x % 2\n",
    "\n",
    "if r == 0:\n",
    "    print('Even number')\n",
    "    if x>5:\n",
    "        print('greater number')\n",
    "else: \n",
    "    print('Odd Number')"
   ]
  },
  {
   "cell_type": "code",
   "execution_count": 42,
   "id": "6d07c65c-0120-4a98-b97f-cf7fe32de451",
   "metadata": {},
   "outputs": [
    {
     "name": "stdout",
     "output_type": "stream",
     "text": [
      "Even number\n",
      "greater number\n"
     ]
    }
   ],
   "source": [
    "x = 12\n",
    "r = x % 2\n",
    "\n",
    "if r == 0:\n",
    "    print('Even number')\n",
    "    if x>5:\n",
    "        print('greater number')\n",
    "else: \n",
    "    print('Odd Number')"
   ]
  },
  {
   "cell_type": "code",
   "execution_count": 44,
   "id": "6e572e7f-6618-4373-ac46-5c7532b30da1",
   "metadata": {},
   "outputs": [
    {
     "name": "stdout",
     "output_type": "stream",
     "text": [
      "Even number\n"
     ]
    }
   ],
   "source": [
    "x = 4\n",
    "r = x % 2\n",
    "\n",
    "if r == 0:\n",
    "    print('Even number')\n",
    "    if x>5:\n",
    "        print('greater number')\n",
    "else: \n",
    "    print('Odd Number')"
   ]
  },
  {
   "cell_type": "code",
   "execution_count": 48,
   "id": "d148b7eb-5b21-4135-b301-d51816dd6863",
   "metadata": {},
   "outputs": [
    {
     "name": "stdout",
     "output_type": "stream",
     "text": [
      "Even number\n",
      "smaller number\n"
     ]
    }
   ],
   "source": [
    "x = 2\n",
    "r = x % 2\n",
    "\n",
    "if r == 0:\n",
    "    print('Even number')\n",
    "    if x>5:\n",
    "        print('greater number')\n",
    "    else:\n",
    "        print('smaller number')\n",
    "else: \n",
    "    print('Odd Number')"
   ]
  },
  {
   "cell_type": "markdown",
   "id": "b27e6153-ee60-4d71-9b86-27931c9e3b82",
   "metadata": {},
   "source": [
    "# if--elif--else"
   ]
  },
  {
   "cell_type": "code",
   "execution_count": 51,
   "id": "ec70a0c8-28e1-448c-9720-26b70f556596",
   "metadata": {},
   "outputs": [
    {
     "name": "stdout",
     "output_type": "stream",
     "text": [
      "number not found\n"
     ]
    }
   ],
   "source": [
    "x = 9\n",
    "\n",
    "if x == 1:\n",
    "    print('one')\n",
    "elif x == 2:\n",
    "    print('Two')\n",
    "elif x == 3:\n",
    "    print('three')\n",
    "elif x == 4:\n",
    "    print('four')\n",
    "else:\n",
    "    print('number not found')"
   ]
  },
  {
   "cell_type": "code",
   "execution_count": null,
   "id": "5d70d52a-c9a3-447c-b586-857acdaa0a4d",
   "metadata": {},
   "outputs": [],
   "source": []
  }
 ],
 "metadata": {
  "kernelspec": {
   "display_name": "Python [conda env:base] *",
   "language": "python",
   "name": "conda-base-py"
  },
  "language_info": {
   "codemirror_mode": {
    "name": "ipython",
    "version": 3
   },
   "file_extension": ".py",
   "mimetype": "text/x-python",
   "name": "python",
   "nbconvert_exporter": "python",
   "pygments_lexer": "ipython3",
   "version": "3.12.7"
  }
 },
 "nbformat": 4,
 "nbformat_minor": 5
}
