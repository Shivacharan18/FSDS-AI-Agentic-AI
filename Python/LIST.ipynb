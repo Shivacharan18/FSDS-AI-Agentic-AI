{
 "cells": [
  {
   "cell_type": "markdown",
   "id": "f02c17ed-809f-404d-8e56-12e3cd31e56a",
   "metadata": {},
   "source": [
    "LIST:\n",
    "1) List is an ordered sequence of items\n",
    "2) We can have different data types under a list Example: We can have higher integer , float ,string items in a same  list\n",
    "3) List can contain duplicate items"
   ]
  },
  {
   "cell_type": "markdown",
   "id": "9be5ad0a-79c9-487e-ab2d-db0d2fee9bb5",
   "metadata": {},
   "source": [
    "list creation"
   ]
  },
  {
   "cell_type": "code",
   "execution_count": 5,
   "id": "95555eaf-2e3a-46a1-80ec-e2ac4648f5c6",
   "metadata": {},
   "outputs": [],
   "source": [
    "list1 = [] # empty list"
   ]
  },
  {
   "cell_type": "code",
   "execution_count": 7,
   "id": "b552dc72-eb85-4463-9498-490b129accca",
   "metadata": {},
   "outputs": [
    {
     "name": "stdout",
     "output_type": "stream",
     "text": [
      "<class 'list'>\n"
     ]
    }
   ],
   "source": [
    "print(type(list1))"
   ]
  },
  {
   "cell_type": "code",
   "execution_count": 9,
   "id": "615b6bad-032f-4885-a2f6-007e287113a7",
   "metadata": {},
   "outputs": [],
   "source": [
    "list2 = [23,234,24,24,5] #list is full of integers"
   ]
  },
  {
   "cell_type": "code",
   "execution_count": 11,
   "id": "9a704c41-01b2-4a20-90b6-d3aec15ff8cd",
   "metadata": {},
   "outputs": [
    {
     "data": {
      "text/plain": [
       "[23, 234, 24, 24, 5]"
      ]
     },
     "execution_count": 11,
     "metadata": {},
     "output_type": "execute_result"
    }
   ],
   "source": [
    "list2"
   ]
  },
  {
   "cell_type": "code",
   "execution_count": 13,
   "id": "534107ac-5471-4231-93c2-82120a8cafee",
   "metadata": {},
   "outputs": [],
   "source": [
    "list3 = [24.4, 4.34,34.4 ,4.4 ]#list of float"
   ]
  },
  {
   "cell_type": "code",
   "execution_count": 15,
   "id": "d72ef32b-8844-4102-a2d5-78fbb14d40e9",
   "metadata": {},
   "outputs": [
    {
     "data": {
      "text/plain": [
       "[24.4, 4.34, 34.4, 4.4]"
      ]
     },
     "execution_count": 15,
     "metadata": {},
     "output_type": "execute_result"
    }
   ],
   "source": [
    "list3"
   ]
  },
  {
   "cell_type": "code",
   "execution_count": 29,
   "id": "88da29fe-2768-4333-b7db-703e2b54ff8b",
   "metadata": {},
   "outputs": [],
   "source": [
    "list4 = ['The',\"quick\",'brown','fox', 'jumps','over','a',\"lazy\", \"dog\"] #list of strings"
   ]
  },
  {
   "cell_type": "code",
   "execution_count": 31,
   "id": "33fdc498-aaac-45c5-be6f-b2b8d936e9ff",
   "metadata": {},
   "outputs": [
    {
     "data": {
      "text/plain": [
       "['The', 'quick', 'brown', 'fox', 'jumps', 'over', 'a', 'lazy', 'dog']"
      ]
     },
     "execution_count": 31,
     "metadata": {},
     "output_type": "execute_result"
    }
   ],
   "source": [
    "list4"
   ]
  },
  {
   "cell_type": "markdown",
   "id": "e2cd2050-0677-4a99-aeca-ca30d2e13479",
   "metadata": {},
   "source": [
    "Nested list : The list present inside a list"
   ]
  },
  {
   "cell_type": "code",
   "execution_count": 51,
   "id": "3fb332da-7418-425b-8818-0491be0fd712",
   "metadata": {},
   "outputs": [],
   "source": [
    "list5 = ['Asif',25.5,[50, 18],50, [45,545,35]]"
   ]
  },
  {
   "cell_type": "code",
   "execution_count": 37,
   "id": "6f72bf18-e3f4-4319-a2a3-77d881df46e6",
   "metadata": {},
   "outputs": [
    {
     "data": {
      "text/plain": [
       "['Asif', 25.5, [50, 18], 50, [45, 545, 35]]"
      ]
     },
     "execution_count": 37,
     "metadata": {},
     "output_type": "execute_result"
    }
   ],
   "source": [
    "list5"
   ]
  },
  {
   "cell_type": "code",
   "execution_count": 47,
   "id": "b14e97f4-5de6-469f-8a53-94fd821f981f",
   "metadata": {},
   "outputs": [],
   "source": [
    "list6 = [\"king\",18.17,333,True]   #list of mixed datatypes."
   ]
  },
  {
   "cell_type": "code",
   "execution_count": 49,
   "id": "a8754eb5-ea0d-4071-9336-98d2d386905d",
   "metadata": {},
   "outputs": [
    {
     "data": {
      "text/plain": [
       "['king', 18.17, 333, True]"
      ]
     },
     "execution_count": 49,
     "metadata": {},
     "output_type": "execute_result"
    }
   ],
   "source": [
    "list6"
   ]
  },
  {
   "cell_type": "code",
   "execution_count": 57,
   "id": "aa2be33c-912b-4b88-ba4d-db7b9a8243fe",
   "metadata": {},
   "outputs": [],
   "source": [
    "list7 = [\"Hitman\",25.5, [50, 18], 50, [45, 545, 35],{'classy',\"prince\"}]"
   ]
  },
  {
   "cell_type": "code",
   "execution_count": 59,
   "id": "4976b45e-43c1-4704-b0e5-49e7431f4bba",
   "metadata": {},
   "outputs": [
    {
     "data": {
      "text/plain": [
       "['Hitman', 25.5, [50, 18], 50, [45, 545, 35], {'classy', 'prince'}]"
      ]
     },
     "execution_count": 59,
     "metadata": {},
     "output_type": "execute_result"
    }
   ],
   "source": [
    "list7"
   ]
  },
  {
   "cell_type": "code",
   "execution_count": 63,
   "id": "e6214f1f-e2bd-41e0-a908-58e1f4f7553b",
   "metadata": {},
   "outputs": [
    {
     "data": {
      "text/plain": [
       "6"
      ]
     },
     "execution_count": 63,
     "metadata": {},
     "output_type": "execute_result"
    }
   ],
   "source": [
    "len(list7) #length of the list"
   ]
  },
  {
   "cell_type": "markdown",
   "id": "49162595-6337-440b-bb8b-ef88805581f0",
   "metadata": {},
   "source": [
    "list indexing :-\n",
    "\n",
    "Forward indexing:\n",
    "\n",
    "0   1    2    3   4    5   6    7 ......\n",
    "\n",
    "items in a list:-   \n",
    " \n",
    "10 30.0  4   34   55   43  86  333\n",
    "\n",
    "Backward indexing\n",
    " \n",
    " ...... -5    -4   -3  -2   -1\n",
    "\n",
    "\n"
   ]
  },
  {
   "cell_type": "code",
   "execution_count": 72,
   "id": "bcc76aba-7773-4ca5-a084-910835066fec",
   "metadata": {},
   "outputs": [
    {
     "data": {
      "text/plain": [
       "23"
      ]
     },
     "execution_count": 72,
     "metadata": {},
     "output_type": "execute_result"
    }
   ],
   "source": [
    "list2[0]"
   ]
  },
  {
   "cell_type": "code",
   "execution_count": 74,
   "id": "e423d324-f8a7-4e4a-9c94-fb08833e195e",
   "metadata": {},
   "outputs": [
    {
     "data": {
      "text/plain": [
       "[50, 18]"
      ]
     },
     "execution_count": 74,
     "metadata": {},
     "output_type": "execute_result"
    }
   ],
   "source": [
    "list7[-4]"
   ]
  },
  {
   "cell_type": "code",
   "execution_count": 80,
   "id": "12f63924-a85b-4ad6-a349-b88616049b1a",
   "metadata": {},
   "outputs": [
    {
     "data": {
      "text/plain": [
       "18"
      ]
     },
     "execution_count": 80,
     "metadata": {},
     "output_type": "execute_result"
    }
   ],
   "source": [
    "list7[2][1]"
   ]
  },
  {
   "cell_type": "code",
   "execution_count": 84,
   "id": "2f523a5d-237f-41fd-aff5-6cd7742d9fb1",
   "metadata": {},
   "outputs": [
    {
     "data": {
      "text/plain": [
       "'H'"
      ]
     },
     "execution_count": 84,
     "metadata": {},
     "output_type": "execute_result"
    }
   ],
   "source": [
    "list7[0][0]"
   ]
  },
  {
   "cell_type": "code",
   "execution_count": 86,
   "id": "c9faf29c-edb6-4cd3-b688-8a62f7a88d80",
   "metadata": {},
   "outputs": [
    {
     "data": {
      "text/plain": [
       "50"
      ]
     },
     "execution_count": 86,
     "metadata": {},
     "output_type": "execute_result"
    }
   ],
   "source": [
    "list5[-2]"
   ]
  },
  {
   "cell_type": "markdown",
   "id": "70b8ceec-8f57-4100-8325-612b9aefe26d",
   "metadata": {},
   "source": [
    "list slicing:- {[(:)]}\n",
    "\n",
    "List slicing in Python is a technique used to extract a portion of a list.\n",
    "\n"
   ]
  },
  {
   "cell_type": "code",
   "execution_count": 91,
   "id": "c5a80fd9-1246-4235-8990-a10b69641231",
   "metadata": {},
   "outputs": [
    {
     "data": {
      "text/plain": [
       "['The', 'quick', 'brown', 'fox', 'jumps', 'over', 'a', 'lazy', 'dog']"
      ]
     },
     "execution_count": 91,
     "metadata": {},
     "output_type": "execute_result"
    }
   ],
   "source": [
    "list4[:] # returns whole list"
   ]
  },
  {
   "cell_type": "code",
   "execution_count": 96,
   "id": "a8568854-cf2f-4f36-acf2-0972541abfd8",
   "metadata": {},
   "outputs": [
    {
     "data": {
      "text/plain": [
       "[[50, 18], 50, [45, 545, 35], {'classy', 'prince'}]"
      ]
     },
     "execution_count": 96,
     "metadata": {},
     "output_type": "execute_result"
    }
   ],
   "source": [
    "list7[2:100]"
   ]
  },
  {
   "cell_type": "code",
   "execution_count": 100,
   "id": "a74d5e18-5268-40c0-b63e-3650a2f7026c",
   "metadata": {},
   "outputs": [
    {
     "data": {
      "text/plain": [
       "[[50, 18], 50, [45, 545, 35], {'classy', 'prince'}]"
      ]
     },
     "execution_count": 100,
     "metadata": {},
     "output_type": "execute_result"
    }
   ],
   "source": [
    "list7[2:]"
   ]
  },
  {
   "cell_type": "code",
   "execution_count": 104,
   "id": "76f3bfff-46a4-4c75-90ed-1dc2cec097ed",
   "metadata": {},
   "outputs": [
    {
     "data": {
      "text/plain": [
       "[50, [45, 545, 35], {'classy', 'prince'}]"
      ]
     },
     "execution_count": 104,
     "metadata": {},
     "output_type": "execute_result"
    }
   ],
   "source": [
    "list7[-3:]  #return last three items"
   ]
  },
  {
   "cell_type": "code",
   "execution_count": 106,
   "id": "2455f3e1-a0c1-4769-8f58-86cb1df55fb1",
   "metadata": {},
   "outputs": [
    {
     "data": {
      "text/plain": [
       "['Hitman', 25.5, [50, 18]]"
      ]
     },
     "execution_count": 106,
     "metadata": {},
     "output_type": "execute_result"
    }
   ],
   "source": [
    "list7[:3] #returns first three elements"
   ]
  },
  {
   "cell_type": "markdown",
   "id": "b0560c9f-1627-483a-adc2-38dc7cd3f7dd",
   "metadata": {},
   "source": [
    "LIST METHODS:-\n",
    "Append , clear , copy , count , Extend ,index , insert , pop ,remove , reverse , sort."
   ]
  },
  {
   "cell_type": "markdown",
   "id": "83f55c70-6a03-4d75-9335-11a9dbe19481",
   "metadata": {},
   "source": [
    "Append:- Append object to the end of the list and append only 1 at a time."
   ]
  },
  {
   "cell_type": "code",
   "execution_count": 110,
   "id": "aeb70edd-6486-4d40-8f4a-94f816f08268",
   "metadata": {},
   "outputs": [],
   "source": [
    "list7.append(18)"
   ]
  },
  {
   "cell_type": "code",
   "execution_count": 112,
   "id": "5f0c9e67-f36a-4828-9f77-ec21e5e38101",
   "metadata": {},
   "outputs": [
    {
     "data": {
      "text/plain": [
       "['Hitman', 25.5, [50, 18], 50, [45, 545, 35], {'classy', 'prince'}, 18]"
      ]
     },
     "execution_count": 112,
     "metadata": {},
     "output_type": "execute_result"
    }
   ],
   "source": [
    "list7"
   ]
  },
  {
   "cell_type": "markdown",
   "id": "4b6f1144-8e9a-481c-9c1c-01424425e4ba",
   "metadata": {},
   "source": [
    "Clear:- Removes all items froms the list\n"
   ]
  },
  {
   "cell_type": "code",
   "execution_count": 117,
   "id": "0c9aa0be-76bd-4e70-a4b8-07950ac625a8",
   "metadata": {},
   "outputs": [],
   "source": [
    "list2.clear()"
   ]
  },
  {
   "cell_type": "code",
   "execution_count": 129,
   "id": "8fe618f7-14e1-49d3-bb60-63f103e7c014",
   "metadata": {},
   "outputs": [
    {
     "data": {
      "text/plain": [
       "[]"
      ]
     },
     "execution_count": 129,
     "metadata": {},
     "output_type": "execute_result"
    }
   ],
   "source": [
    "list2"
   ]
  },
  {
   "cell_type": "code",
   "execution_count": 133,
   "id": "5b3a2917-658a-41ed-8706-1f52ccb30b08",
   "metadata": {},
   "outputs": [
    {
     "data": {
      "text/plain": [
       "['Hitman', 25.5, [50, 18], 50, [45, 545, 35], {'classy', 'prince'}, 18]"
      ]
     },
     "execution_count": 133,
     "metadata": {},
     "output_type": "execute_result"
    }
   ],
   "source": [
    "list7"
   ]
  },
  {
   "cell_type": "markdown",
   "id": "5f8f3f17-ed9f-41cd-9ba2-43c0f918590e",
   "metadata": {},
   "source": [
    "copy:- return a shallow copy of the list."
   ]
  },
  {
   "cell_type": "code",
   "execution_count": 163,
   "id": "0a26829b-71e3-4c7d-b124-f15cfc9c3f33",
   "metadata": {},
   "outputs": [],
   "source": [
    "list5 = list7.copy()"
   ]
  },
  {
   "cell_type": "code",
   "execution_count": 165,
   "id": "e45b9df7-c06e-4415-83af-6a54fd6654f5",
   "metadata": {},
   "outputs": [
    {
     "data": {
      "text/plain": [
       "['Hitman', 25.5, [50, 18], 50, [45, 545, 35], {'classy', 'prince'}, 18]"
      ]
     },
     "execution_count": 165,
     "metadata": {},
     "output_type": "execute_result"
    }
   ],
   "source": [
    "list5"
   ]
  },
  {
   "cell_type": "code",
   "execution_count": 168,
   "id": "2748e420-63e0-41a9-9a76-8f31c7961152",
   "metadata": {},
   "outputs": [
    {
     "data": {
      "text/plain": [
       "['Hitman', 25.5, [50, 18], 50, [45, 545, 35], {'classy', 'prince'}, 18]"
      ]
     },
     "execution_count": 168,
     "metadata": {},
     "output_type": "execute_result"
    }
   ],
   "source": [
    "list7"
   ]
  },
  {
   "cell_type": "code",
   "execution_count": 170,
   "id": "0799fe90-3e80-41b6-891d-1df2a402de26",
   "metadata": {},
   "outputs": [
    {
     "data": {
      "text/plain": [
       "['Hitman', 25.5, [50, 18], 50, [45, 545, 35], {'classy', 'prince'}, 18]"
      ]
     },
     "execution_count": 170,
     "metadata": {},
     "output_type": "execute_result"
    }
   ],
   "source": [
    "list5"
   ]
  },
  {
   "cell_type": "markdown",
   "id": "0004a69e-9af6-4fc5-8c70-e50a06560773",
   "metadata": {},
   "source": [
    "count:- Returns the number of occurence of the value."
   ]
  },
  {
   "cell_type": "code",
   "execution_count": 172,
   "id": "3a41ec83-7701-4401-81c3-fb44e9818523",
   "metadata": {},
   "outputs": [
    {
     "data": {
      "text/plain": [
       "1"
      ]
     },
     "execution_count": 172,
     "metadata": {},
     "output_type": "execute_result"
    }
   ],
   "source": [
    "list7.count(18)"
   ]
  },
  {
   "cell_type": "code",
   "execution_count": 175,
   "id": "16081e64-beee-429b-88dc-57f622bcf4c1",
   "metadata": {},
   "outputs": [
    {
     "data": {
      "text/plain": [
       "['Hitman', 25.5, [50, 18], 50, [45, 545, 35], {'classy', 'prince'}, 18]"
      ]
     },
     "execution_count": 175,
     "metadata": {},
     "output_type": "execute_result"
    }
   ],
   "source": [
    "list7"
   ]
  },
  {
   "cell_type": "code",
   "execution_count": 177,
   "id": "0941a986-de6a-4fda-8301-f2f94709012c",
   "metadata": {},
   "outputs": [
    {
     "data": {
      "text/plain": [
       "0"
      ]
     },
     "execution_count": 177,
     "metadata": {},
     "output_type": "execute_result"
    }
   ],
   "source": [
    "list6.count(\"Hitman\")"
   ]
  },
  {
   "cell_type": "code",
   "execution_count": 189,
   "id": "02e5b3ce-0686-4b85-a30f-d17a3e4e6e24",
   "metadata": {},
   "outputs": [
    {
     "data": {
      "text/plain": [
       "0"
      ]
     },
     "execution_count": 189,
     "metadata": {},
     "output_type": "execute_result"
    }
   ],
   "source": [
    "list7.count(\"hitman\") # python is case sensitive"
   ]
  },
  {
   "cell_type": "markdown",
   "id": "2d33c5b0-5ce9-465f-8eeb-bdb75f687cd8",
   "metadata": {},
   "source": [
    "Extend:- Extend list by appending elements from the iterable.\n"
   ]
  },
  {
   "cell_type": "code",
   "execution_count": 195,
   "id": "f532bcfb-55f9-406e-af09-cf3deef535de",
   "metadata": {},
   "outputs": [
    {
     "data": {
      "text/plain": [
       "['Hitman',\n",
       " 25.5,\n",
       " [50, 18],\n",
       " 50,\n",
       " [45, 545, 35],\n",
       " {'classy', 'prince'},\n",
       " 18,\n",
       " 'king',\n",
       " 18.17,\n",
       " 333,\n",
       " True,\n",
       " 'king',\n",
       " 18.17,\n",
       " 333,\n",
       " True]"
      ]
     },
     "execution_count": 195,
     "metadata": {},
     "output_type": "execute_result"
    }
   ],
   "source": [
    "list5.extend(list6)\n",
    "list5"
   ]
  },
  {
   "cell_type": "markdown",
   "id": "8725b391-4612-45d1-b2b2-f72d0b64b1cc",
   "metadata": {},
   "source": [
    "Index:- Return first index of the value .\n",
    "Raise the value error if value is not present in tke list."
   ]
  },
  {
   "cell_type": "code",
   "execution_count": 203,
   "id": "22c2cde5-fde4-43f6-9d24-fbe0b9b6883b",
   "metadata": {},
   "outputs": [
    {
     "data": {
      "text/plain": [
       "3"
      ]
     },
     "execution_count": 203,
     "metadata": {},
     "output_type": "execute_result"
    }
   ],
   "source": [
    "list7.index(50)"
   ]
  },
  {
   "cell_type": "code",
   "execution_count": 205,
   "id": "c7a3ce3e-1252-4424-96e0-643ac0fd9584",
   "metadata": {},
   "outputs": [
    {
     "data": {
      "text/plain": [
       "[24.4, 4.34, 34.4, 4.4]"
      ]
     },
     "execution_count": 205,
     "metadata": {},
     "output_type": "execute_result"
    }
   ],
   "source": [
    "list3"
   ]
  },
  {
   "cell_type": "code",
   "execution_count": 209,
   "id": "47053581-ccff-4f94-868d-0af56501823b",
   "metadata": {},
   "outputs": [
    {
     "ename": "ValueError",
     "evalue": "2 is not in list",
     "output_type": "error",
     "traceback": [
      "\u001b[1;31m---------------------------------------------------------------------------\u001b[0m",
      "\u001b[1;31mValueError\u001b[0m                                Traceback (most recent call last)",
      "Cell \u001b[1;32mIn[209], line 1\u001b[0m\n\u001b[1;32m----> 1\u001b[0m list3\u001b[38;5;241m.\u001b[39mindex(\u001b[38;5;241m2\u001b[39m)\n",
      "\u001b[1;31mValueError\u001b[0m: 2 is not in list"
     ]
    }
   ],
   "source": [
    "list3.index(2)"
   ]
  },
  {
   "cell_type": "markdown",
   "id": "4105646a-2d3f-4368-8a65-82a6581f8d66",
   "metadata": {},
   "source": [
    "Insert:-it is used to add element into the\n",
    "list at specific position by giving index."
   ]
  },
  {
   "cell_type": "code",
   "execution_count": 220,
   "id": "1e498c1d-c2b1-49df-b328-dd48c2c2861b",
   "metadata": {},
   "outputs": [
    {
     "data": {
      "text/plain": [
       "['king', 18.17, 333, True]"
      ]
     },
     "execution_count": 220,
     "metadata": {},
     "output_type": "execute_result"
    }
   ],
   "source": [
    "list6"
   ]
  },
  {
   "cell_type": "code",
   "execution_count": 222,
   "id": "e6fe1cda-387a-481a-8014-0132082d9d78",
   "metadata": {},
   "outputs": [],
   "source": [
    "list6.insert(1,\"Hitman\")"
   ]
  },
  {
   "cell_type": "code",
   "execution_count": 224,
   "id": "258e1bb9-c3d1-4a2a-81ed-d90dafb0e74e",
   "metadata": {},
   "outputs": [
    {
     "data": {
      "text/plain": [
       "['king', 'Hitman', 18.17, 333, True]"
      ]
     },
     "execution_count": 224,
     "metadata": {},
     "output_type": "execute_result"
    }
   ],
   "source": [
    "list6"
   ]
  },
  {
   "cell_type": "markdown",
   "id": "1e3984b0-59ac-42d5-bfb4-11d0eb000c53",
   "metadata": {},
   "source": [
    "POP:-Removes and return the item at index(last index)and if you mention a index value it will that\n",
    "\n",
    "Rasises an index error it list is emply or out of range"
   ]
  },
  {
   "cell_type": "code",
   "execution_count": 228,
   "id": "c78a2637-69b3-4f50-8466-4a0f63763dfe",
   "metadata": {},
   "outputs": [
    {
     "data": {
      "text/plain": [
       "True"
      ]
     },
     "execution_count": 228,
     "metadata": {},
     "output_type": "execute_result"
    }
   ],
   "source": [
    "list6.pop()"
   ]
  },
  {
   "cell_type": "code",
   "execution_count": 230,
   "id": "e1b06666-182d-4181-bb9b-6806b650db38",
   "metadata": {},
   "outputs": [
    {
     "data": {
      "text/plain": [
       "18"
      ]
     },
     "execution_count": 230,
     "metadata": {},
     "output_type": "execute_result"
    }
   ],
   "source": [
    "list7.pop()"
   ]
  },
  {
   "cell_type": "code",
   "execution_count": 232,
   "id": "4e0c3275-f077-497a-a170-6fc42640732d",
   "metadata": {},
   "outputs": [
    {
     "data": {
      "text/plain": [
       "['king', 'Hitman', 18.17, 333]"
      ]
     },
     "execution_count": 232,
     "metadata": {},
     "output_type": "execute_result"
    }
   ],
   "source": [
    "list6"
   ]
  },
  {
   "cell_type": "code",
   "execution_count": 234,
   "id": "67820e53-08b9-4b20-b1a1-a4d2d87baf8b",
   "metadata": {},
   "outputs": [
    {
     "data": {
      "text/plain": [
       "['Hitman', 25.5, [50, 18], 50, [45, 545, 35], {'classy', 'prince'}]"
      ]
     },
     "execution_count": 234,
     "metadata": {},
     "output_type": "execute_result"
    }
   ],
   "source": [
    "list7"
   ]
  },
  {
   "cell_type": "code",
   "execution_count": 239,
   "id": "8de90a26-16e9-4db4-932d-c075651ffc89",
   "metadata": {},
   "outputs": [
    {
     "data": {
      "text/plain": [
       "25.5"
      ]
     },
     "execution_count": 239,
     "metadata": {},
     "output_type": "execute_result"
    }
   ],
   "source": [
    "list7.pop(1)"
   ]
  },
  {
   "cell_type": "code",
   "execution_count": 243,
   "id": "f0273916-d443-4190-99c5-716b460fd0ec",
   "metadata": {},
   "outputs": [
    {
     "data": {
      "text/plain": [
       "['Hitman', [50, 18], 50, [45, 545, 35]]"
      ]
     },
     "execution_count": 243,
     "metadata": {},
     "output_type": "execute_result"
    }
   ],
   "source": [
    "list7"
   ]
  },
  {
   "cell_type": "markdown",
   "id": "0fc9c3be-ae1c-4942-84c3-ccc74b9324c4",
   "metadata": {},
   "source": [
    "Remove:-it reverse the list in places"
   ]
  },
  {
   "cell_type": "code",
   "execution_count": 245,
   "id": "58347267-4e7a-4555-86f6-479186e7a95d",
   "metadata": {},
   "outputs": [
    {
     "data": {
      "text/plain": [
       "['Hitman', [50, 18], 50, [45, 545, 35]]"
      ]
     },
     "execution_count": 245,
     "metadata": {},
     "output_type": "execute_result"
    }
   ],
   "source": [
    "list7"
   ]
  },
  {
   "cell_type": "code",
   "execution_count": 247,
   "id": "931c0723-5d9e-42ef-82bf-060325577e17",
   "metadata": {},
   "outputs": [],
   "source": [
    "list7.reverse()"
   ]
  },
  {
   "cell_type": "code",
   "execution_count": 249,
   "id": "b1d70960-d41b-4d08-a93f-d1fb0386a7cd",
   "metadata": {},
   "outputs": [
    {
     "data": {
      "text/plain": [
       "[[45, 545, 35], 50, [50, 18], 'Hitman']"
      ]
     },
     "execution_count": 249,
     "metadata": {},
     "output_type": "execute_result"
    }
   ],
   "source": [
    "list7"
   ]
  },
  {
   "cell_type": "code",
   "execution_count": 254,
   "id": "ed01265e-ef31-4691-9717-6af440827b30",
   "metadata": {},
   "outputs": [],
   "source": [
    "list8 = [1,2,3,4,5,5,6,7,7,8,9]"
   ]
  },
  {
   "cell_type": "code",
   "execution_count": 256,
   "id": "e98f8722-1876-4fda-a6ec-e99d6aa14681",
   "metadata": {},
   "outputs": [
    {
     "data": {
      "text/plain": [
       "[1, 2, 3, 4, 5, 5, 6, 7, 7, 8, 9]"
      ]
     },
     "execution_count": 256,
     "metadata": {},
     "output_type": "execute_result"
    }
   ],
   "source": [
    "list8"
   ]
  },
  {
   "cell_type": "code",
   "execution_count": 269,
   "id": "d1573578-70b0-407a-b282-677585d840ae",
   "metadata": {},
   "outputs": [],
   "source": [
    "list8.reverse()"
   ]
  },
  {
   "cell_type": "code",
   "execution_count": 265,
   "id": "fdbbccc8-7af4-433f-90d3-c6ef0ceced23",
   "metadata": {},
   "outputs": [
    {
     "data": {
      "text/plain": [
       "[9, 8, 7, 7, 6, 5, 5, 4, 3, 2, 1]"
      ]
     },
     "execution_count": 265,
     "metadata": {},
     "output_type": "execute_result"
    }
   ],
   "source": [
    "list8"
   ]
  },
  {
   "cell_type": "markdown",
   "id": "8567f471-ed43-404b-8631-d8c1b28c4dc1",
   "metadata": {},
   "source": [
    "Remove:- lt is used to remove element from the list. lt removes first occurence of specified value."
   ]
  },
  {
   "cell_type": "code",
   "execution_count": 273,
   "id": "02732ba4-ce3e-47f9-98eb-becd4b284b18",
   "metadata": {},
   "outputs": [],
   "source": [
    "list8.remove(8)"
   ]
  },
  {
   "cell_type": "code",
   "execution_count": 275,
   "id": "e57fb117-40ca-4e3c-b722-19b859df8edc",
   "metadata": {},
   "outputs": [
    {
     "data": {
      "text/plain": [
       "[9, 7, 7, 6, 5, 5, 4, 3, 2, 1]"
      ]
     },
     "execution_count": 275,
     "metadata": {},
     "output_type": "execute_result"
    }
   ],
   "source": [
    "list8"
   ]
  },
  {
   "cell_type": "code",
   "execution_count": 284,
   "id": "02e20bb7-8cb3-44fc-9b7e-76b73b020f11",
   "metadata": {},
   "outputs": [],
   "source": [
    "list8.remove(7)"
   ]
  },
  {
   "cell_type": "code",
   "execution_count": 280,
   "id": "abdf490f-4429-4ce3-927c-cd1d668059bc",
   "metadata": {},
   "outputs": [
    {
     "data": {
      "text/plain": [
       "[9, 7, 6, 5, 5, 4, 3, 2, 1]"
      ]
     },
     "execution_count": 280,
     "metadata": {},
     "output_type": "execute_result"
    }
   ],
   "source": [
    "list8"
   ]
  },
  {
   "cell_type": "markdown",
   "id": "61263d95-e581-4a5b-a9d7-028bacbf9c59",
   "metadata": {},
   "source": [
    "Sort:- it is function used in list in ascending or descending order."
   ]
  },
  {
   "cell_type": "code",
   "execution_count": 286,
   "id": "82c7456b-1ee1-489f-9958-2bf79c962c93",
   "metadata": {},
   "outputs": [],
   "source": [
    "listsort = [ 0,1, 2, 3, 4 , 5, 6, 7, 8, 9, 10]"
   ]
  },
  {
   "cell_type": "code",
   "execution_count": 288,
   "id": "72d50cd6-5e40-48f6-8fa0-92fec59de39e",
   "metadata": {},
   "outputs": [],
   "source": [
    "listsort.sort()"
   ]
  },
  {
   "cell_type": "code",
   "execution_count": 290,
   "id": "c4d0bc36-344b-4c1f-bcde-b916d1b913d6",
   "metadata": {},
   "outputs": [
    {
     "data": {
      "text/plain": [
       "[0, 1, 2, 3, 4, 5, 6, 7, 8, 9, 10]"
      ]
     },
     "execution_count": 290,
     "metadata": {},
     "output_type": "execute_result"
    }
   ],
   "source": [
    "listsort"
   ]
  },
  {
   "cell_type": "code",
   "execution_count": 292,
   "id": "e096bac6-a5fc-440f-a1e5-d8ee78c2ccb1",
   "metadata": {},
   "outputs": [],
   "source": [
    "listsort.sort(reverse=True)"
   ]
  },
  {
   "cell_type": "code",
   "execution_count": 294,
   "id": "92006669-c5c9-401c-b4dd-f54e6e923cbc",
   "metadata": {},
   "outputs": [
    {
     "data": {
      "text/plain": [
       "[10, 9, 8, 7, 6, 5, 4, 3, 2, 1, 0]"
      ]
     },
     "execution_count": 294,
     "metadata": {},
     "output_type": "execute_result"
    }
   ],
   "source": [
    "listsort"
   ]
  },
  {
   "cell_type": "code",
   "execution_count": 296,
   "id": "84bc2859-ee8b-4c25-b05c-5d5154e036fb",
   "metadata": {},
   "outputs": [],
   "source": [
    "listsort.sort(reverse=False)"
   ]
  },
  {
   "cell_type": "code",
   "execution_count": 298,
   "id": "75cbf222-ee81-4e49-b095-714901f19c7a",
   "metadata": {},
   "outputs": [
    {
     "data": {
      "text/plain": [
       "[0, 1, 2, 3, 4, 5, 6, 7, 8, 9, 10]"
      ]
     },
     "execution_count": 298,
     "metadata": {},
     "output_type": "execute_result"
    }
   ],
   "source": [
    "listsort"
   ]
  },
  {
   "cell_type": "code",
   "execution_count": null,
   "id": "a9f41151-a7d3-4a6a-a287-1c7f1a5ab3b6",
   "metadata": {},
   "outputs": [],
   "source": []
  }
 ],
 "metadata": {
  "kernelspec": {
   "display_name": "Python [conda env:base] *",
   "language": "python",
   "name": "conda-base-py"
  },
  "language_info": {
   "codemirror_mode": {
    "name": "ipython",
    "version": 3
   },
   "file_extension": ".py",
   "mimetype": "text/x-python",
   "name": "python",
   "nbconvert_exporter": "python",
   "pygments_lexer": "ipython3",
   "version": "3.12.7"
  }
 },
 "nbformat": 4,
 "nbformat_minor": 5
}
